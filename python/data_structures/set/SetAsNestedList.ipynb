{
 "cells": [
  {
   "cell_type": "markdown",
   "metadata": {
    "ExecuteTime": {
     "end_time": "2020-12-10T04:45:00.244291Z",
     "start_time": "2020-12-10T04:45:00.239859Z"
    },
    "hide_input": true
   },
   "source": [
    "# Implementing a Set with a nested List\n",
    "\n",
    "\n",
    "## Profiling tools\n",
    "\n",
    "1. As the results of the first call to `memit` reveal, a fresh IPython shell consumes approximately 40 MB of RAM:"
   ]
  },
  {
   "cell_type": "code",
   "execution_count": 1,
   "metadata": {
    "ExecuteTime": {
     "end_time": "2020-12-21T17:11:06.704292Z",
     "start_time": "2020-12-21T17:11:03.696003Z"
    },
    "execution": {
     "iopub.execute_input": "2020-12-14T01:07:25.953055Z",
     "iopub.status.busy": "2020-12-14T01:07:25.952800Z",
     "iopub.status.idle": "2020-12-14T01:07:28.775101Z",
     "shell.execute_reply": "2020-12-14T01:07:28.774290Z",
     "shell.execute_reply.started": "2020-12-14T01:07:25.953028Z"
    },
    "init_cell": true,
    "run_control": {
     "marked": false
    },
    "scrolled": true,
    "tags": [
     "memory_profiler"
    ]
   },
   "outputs": [
    {
     "name": "stdout",
     "output_type": "stream",
     "text": [
      "peak memory: 46.14 MiB, increment: 0.29 MiB\n"
     ]
    }
   ],
   "source": [
    "%reload_ext memory_profiler\n",
    "%memit"
   ]
  },
  {
   "cell_type": "markdown",
   "metadata": {
    "ExecuteTime": {
     "end_time": "2020-12-10T05:01:52.934927Z",
     "start_time": "2020-12-10T05:01:52.931615Z"
    },
    "init_cell": true,
    "run_control": {
     "marked": false
    },
    "tags": [
     "memory_profiler"
    ]
   },
   "source": [
    "2. Import modules into main program:"
   ]
  },
  {
   "cell_type": "code",
   "execution_count": 2,
   "metadata": {
    "ExecuteTime": {
     "end_time": "2020-12-21T17:11:06.819749Z",
     "start_time": "2020-12-21T17:11:06.707751Z"
    },
    "execution": {
     "iopub.execute_input": "2020-12-14T01:07:28.777225Z",
     "iopub.status.busy": "2020-12-14T01:07:28.776956Z",
     "iopub.status.idle": "2020-12-14T01:07:28.890487Z",
     "shell.execute_reply": "2020-12-14T01:07:28.889675Z",
     "shell.execute_reply.started": "2020-12-14T01:07:28.777194Z"
    },
    "init_cell": true,
    "run_control": {
     "marked": false
    },
    "tags": [
     "memory_profiler"
    ]
   },
   "outputs": [],
   "source": [
    "import ipython_memory_usage.ipython_memory_usage as imu\n",
    "import memory_profiler\n",
    "import time\n",
    "import timeit"
   ]
  },
  {
   "cell_type": "markdown",
   "metadata": {},
   "source": [
    "3. Notice how it's difficult to have certain outputs standout in the sea of outputs, notes, etc.?"
   ]
  },
  {
   "cell_type": "code",
   "execution_count": 3,
   "metadata": {
    "ExecuteTime": {
     "end_time": "2020-12-21T17:11:06.837691Z",
     "start_time": "2020-12-21T17:11:06.824040Z"
    },
    "execution": {
     "iopub.execute_input": "2020-12-14T01:07:28.893216Z",
     "iopub.status.busy": "2020-12-14T01:07:28.892947Z",
     "iopub.status.idle": "2020-12-14T01:07:28.908526Z",
     "shell.execute_reply": "2020-12-14T01:07:28.907361Z",
     "shell.execute_reply.started": "2020-12-14T01:07:28.893184Z"
    },
    "init_cell": true
   },
   "outputs": [
    {
     "data": {
      "text/markdown": [
       "**When there's a lot of noise, we can bold our output by including markdown in it**"
      ],
      "text/plain": [
       "<IPython.core.display.Markdown object>"
      ]
     },
     "metadata": {},
     "output_type": "display_data"
    },
    {
     "data": {
      "text/markdown": [
       "<span style='color:blue'>**We extended further to add color support. Bold... and blue...**</span>"
      ],
      "text/plain": [
       "<IPython.core.display.Markdown object>"
      ]
     },
     "metadata": {},
     "output_type": "display_data"
    }
   ],
   "source": [
    "from IPython.display import Markdown, display\n",
    "def printmd(string):\n",
    "    display(Markdown(string))\n",
    "\n",
    "printmd(\"**When there's a lot of noise, we can bold our output by including markdown in it**\")\n",
    "\n",
    "def printmd(string, color=None):\n",
    "    colorstr = \"<span style='color:{}'>{}</span>\".format(color, string)\n",
    "    display(Markdown(colorstr))\n",
    "\n",
    "printmd(\"**We extended further to add color support. Bold... and blue...**\", color=\"blue\")"
   ]
  },
  {
   "cell_type": "markdown",
   "metadata": {},
   "source": [
    "## DynamicArraySet\n",
    "I initially implemented it as 1-D list of integers, then augmented to a 2-D list of lists containing integers, as described in the \"Set\" section of the `README.md`.\n",
    "\n",
    "The list mimics a naive implementation of a **dynamic array** for educational purposes, providing **dynamic memory allocation**, **traversal**, **insertion** and **removal**. In reality a Python list is already a dynamic array, just like\n",
    "    the Ruby `Array`, as opposed to a static array like in Java.\n",
    "    \n",
    "**This implementation limits the valid set of contained elements to integers**, as the integers are used to compute an index into an array of **buckets** (sub-arrays). Bucket lookup is 0(1), then an 0(n) scan finds the correct element in the bucket."
   ]
  },
  {
   "cell_type": "code",
   "execution_count": 4,
   "metadata": {
    "ExecuteTime": {
     "end_time": "2020-12-21T17:11:06.845608Z",
     "start_time": "2020-12-21T17:11:06.841603Z"
    },
    "code_folding": [],
    "execution": {
     "iopub.execute_input": "2020-12-16T03:59:09.723403Z",
     "iopub.status.busy": "2020-12-16T03:59:09.723124Z",
     "iopub.status.idle": "2020-12-16T03:59:09.726951Z",
     "shell.execute_reply": "2020-12-16T03:59:09.725942Z",
     "shell.execute_reply.started": "2020-12-16T03:59:09.723374Z"
    },
    "init_cell": true
   },
   "outputs": [],
   "source": [
    "class DynamicArraySet:\n",
    "    \"\"\"Alternate array-based Set implemented with a 2-D list.\"\"\" "
   ]
  },
  {
   "cell_type": "markdown",
   "metadata": {},
   "source": [
    "####  `__init__`\n",
    "We use a **list comprehension** when assigning the strcture: `[[] for _ in range(size)]`. \n",
    "**This is the appropriate way to create a nested list.**\n",
    "\n",
    "Creating it using `[obj] * size` is a **common pitfall**. The resulting list contains `size` *references* to the\n",
    "same object, not copies of it, meaning trying to mutate the `obj` at a specific index would update it throughout the entire list instead. To avoid this behavior, **only do this if `obj` is immutable**. For ex., If we were to preallocate the inner list, we could do: \n",
    "\n",
    "`[[None for _ in range(size)] for _ in range(size)]` or `[[None] * size] for _ in range(size)]` \n",
    "\n",
    "because `None` is immutable. \n",
    "\n",
    "**Better yet, just use the comprehension throughout**"
   ]
  },
  {
   "cell_type": "code",
   "execution_count": 5,
   "metadata": {
    "ExecuteTime": {
     "end_time": "2020-12-21T17:11:06.851600Z",
     "start_time": "2020-12-21T17:11:06.847820Z"
    },
    "code_folding": [],
    "execution": {
     "iopub.execute_input": "2020-12-16T03:59:11.455651Z",
     "iopub.status.busy": "2020-12-16T03:59:11.455363Z",
     "iopub.status.idle": "2020-12-16T03:59:11.460740Z",
     "shell.execute_reply": "2020-12-16T03:59:11.459724Z",
     "shell.execute_reply.started": "2020-12-16T03:59:11.455620Z"
    },
    "init_cell": true,
    "run_control": {
     "marked": false
    }
   },
   "outputs": [],
   "source": [
    "class DynamicArraySet(DynamicArraySet):\n",
    "    def __init__(self, size: int = 4) -> None:\n",
    "        \"\"\"Constructs a new DynamicArraySetInstance.\n",
    "\n",
    "        :param int size: The initial set size; can be thought of as the number\n",
    "                         of buckets / sub-lists / rows / rank / space in memory.\n",
    "                         Defaults to 4\n",
    "        :return: None\n",
    "        \"\"\"\n",
    "        self.n = 0\n",
    "\n",
    "        if size < 0:\n",
    "            raise ValueError(\"size should be a positive integer\")\n",
    "\n",
    "        self.store = [[] for _ in range(size)]"
   ]
  },
  {
   "cell_type": "markdown",
   "metadata": {},
   "source": [
    "#### MutableSet ABC\n",
    "\n",
    "The remainder of our magic methods are defined below with docstrings. According to Python's `MutableSet` ABC, in order for our class to provide a `MutableSet` interface it needs to define implementations for the following methods:\n",
    "    \n",
    "   1. **`__contains__`**: defines how we perform a membership test when using the `in` operator\n",
    "\n",
    "   2. **`__iter__`**: defines how we iterate when using `for`\n",
    "\n",
    "   3. **`__len__`**: defines length when we use `len`\n",
    "\n",
    "   4. **`__add__`** (`add`) defines how we add an element\n",
    "\n",
    "   5. **`__discard__`** (`discard`) defines how we remove an element. Should not raise an exception if the element is absent\n",
    "\n",
    "Then if we subclassed `MutableSet`, it would provide generic implementations of all the other methods that support a container API.\n",
    "\n",
    "We're not going to be subclassinig `MutableSet` because this class only serves to demonstrate concepts, it isn't intended to be robust or used for production. The methods identified above, though, are a reminder why `insert`, `include?` and `delete` is our minimal Set API as defined in the README.\n",
    "\n",
    "Additionally, we implement:\n",
    "   1. **`__repr__`**: the official representation of our class\n",
    "   2. **`__str__`**: output of `print` ing our class"
   ]
  },
  {
   "cell_type": "code",
   "execution_count": 6,
   "metadata": {
    "ExecuteTime": {
     "end_time": "2020-12-21T17:11:06.860102Z",
     "start_time": "2020-12-21T17:11:06.853866Z"
    },
    "code_folding": [
     3,
     7,
     17,
     21,
     25,
     30
    ],
    "execution": {
     "iopub.execute_input": "2020-12-14T01:23:05.983110Z",
     "iopub.status.busy": "2020-12-14T01:23:05.982868Z",
     "iopub.status.idle": "2020-12-14T01:23:05.989855Z",
     "shell.execute_reply": "2020-12-14T01:23:05.989032Z",
     "shell.execute_reply.started": "2020-12-14T01:23:05.983083Z"
    },
    "init_cell": true,
    "run_control": {
     "marked": false
    }
   },
   "outputs": [],
   "source": [
    "class DynamicArraySet(DynamicArraySet):\n",
    "    \n",
    "    @property\n",
    "    def size(self):\n",
    "        \"\"\"Readonly. The number of buckets.\"\"\"\n",
    "        return len(self)\n",
    "\n",
    "    def contains(self, value: int) -> bool:\n",
    "        \"\"\"\n",
    "        Check if the passed value exists in the set.\n",
    "        \"\"\"\n",
    "        if self.n == 0 or not 0 <= value % self.size <= self.size - 1:\n",
    "            return False\n",
    "        return value in self.store[value % self.size]\n",
    "\n",
    "    __contains__ = contains\n",
    "\n",
    "    def __iter__(self) -> iter:\n",
    "        \"\"\"Makes our class iterable, ie. allows `[sub_list for sub_list in self]`\"\"\"\n",
    "        return iter(self.store)\n",
    "    \n",
    "    def __len__(self) -> int:\n",
    "        \"\"\"Implements `len` on our class, allows `len(self)`\"\"\"\n",
    "        return len(self.store)\n",
    "\n",
    "    def __repr__(self) -> str:\n",
    "        \"\"\"\n",
    "        The official representation of this class, acccessed by `repr(self)`.\n",
    "        The output matches the `__repr__` of Python's built-in `set`\n",
    "        \"\"\"\n",
    "        comp = [str(e) for _ in self for e in _ if e is not None]\n",
    "        return f'{{{\", \".join(comp)}}}'\n",
    "    \n",
    "    def __str__(self) -> str:\n",
    "        \"\"\"Pretty print class representation, accessed by `print(self)`\"\"\"\n",
    "        return f'{self.__class__.__name__}(size: {self.size}, count: {self.n}, store: {self.store})'"
   ]
  },
  {
   "cell_type": "markdown",
   "metadata": {},
   "source": [
    "### `add`\n",
    "Add the value in the first empty space in the underlying array or append it if there are no empty spaces and resize when free slots run low. This is modeled after the probing technique **open addressing**."
   ]
  },
  {
   "cell_type": "code",
   "execution_count": 7,
   "metadata": {
    "ExecuteTime": {
     "end_time": "2020-12-21T17:11:06.867208Z",
     "start_time": "2020-12-21T17:11:06.862342Z"
    },
    "execution": {
     "iopub.execute_input": "2020-12-14T01:07:28.935818Z",
     "iopub.status.busy": "2020-12-14T01:07:28.935408Z",
     "iopub.status.idle": "2020-12-14T01:07:28.941791Z",
     "shell.execute_reply": "2020-12-14T01:07:28.940943Z",
     "shell.execute_reply.started": "2020-12-14T01:07:28.935768Z"
    },
    "init_cell": true
   },
   "outputs": [],
   "source": [
    "class DynamicArraySet(DynamicArraySet):\n",
    "    def add(self, value: int) -> bool:\n",
    "        \"\"\"Add the value to the set if it does not already exist in the set\"\"\"\n",
    "        if value not in self:\n",
    "            sub_list = self.store[value % self.size]\n",
    "            for idx, el in enumerate(sub_list):\n",
    "                if el is None:\n",
    "                    sub_list[idx] = value\n",
    "                    self.n += 1\n",
    "                    return True\n",
    "\n",
    "            sub_list.append(value)\n",
    "            self.n += 1\n",
    "\n",
    "            if self.size < self.n:\n",
    "                self._resize()\n",
    "\n",
    "            return True\n",
    "        return False"
   ]
  },
  {
   "cell_type": "markdown",
   "metadata": {},
   "source": [
    "### `discard`\n",
    "In reality, the value would not actually get deleted, but set to None. This dereferences it and the garbage collector will come around later to deallocate it."
   ]
  },
  {
   "cell_type": "code",
   "execution_count": 8,
   "metadata": {
    "ExecuteTime": {
     "end_time": "2020-12-21T17:11:06.877029Z",
     "start_time": "2020-12-21T17:11:06.872368Z"
    },
    "execution": {
     "iopub.execute_input": "2020-12-16T03:59:40.354334Z",
     "iopub.status.busy": "2020-12-16T03:59:40.354049Z",
     "iopub.status.idle": "2020-12-16T03:59:40.360096Z",
     "shell.execute_reply": "2020-12-16T03:59:40.358796Z",
     "shell.execute_reply.started": "2020-12-16T03:59:40.354303Z"
    },
    "init_cell": true
   },
   "outputs": [],
   "source": [
    "class DynamicArraySet(DynamicArraySet):\n",
    "\n",
    "    def discard(self, value: int) -> bool:\n",
    "        \"\"\"Delete the value from the set if it exists\"\"\"\n",
    "        if value in self:\n",
    "            sub_list = self.store[value % self.size]\n",
    "            for idx, el in enumerate(sub_list):\n",
    "                if el == value:\n",
    "                    del sub_list[idx]\n",
    "                    self.n -= 1\n",
    "                    return True\n",
    "        return False"
   ]
  },
  {
   "cell_type": "markdown",
   "metadata": {
    "lines_to_next_cell": 0
   },
   "source": [
    "###  `_resize`\n",
    "\n",
    "This method is meant to grow the set if there is not enough free space or shrink it if there is too much\n",
    "space. We have only implemented growth, which is sufficient for this learning example.\n",
    "\n",
    "**Steps:**\n",
    "\n",
    "When a list of size `N` is first appended to, Python must:\n",
    "\n",
    "1. Create a new list that is big enough to hold the original `N` items\n",
    "   in addition to the extra one that is being appended.\n",
    "\n",
    "2. Allocate `M` items, where `M` > `N`, in order to provide extra headroom\n",
    "   for future appends\n",
    "\n",
    "3. Copy the data from the old list to the new list\n",
    "\n",
    "4. Destroy the old list\n",
    "\n",
    " The list allocation equation used below is the one used currently by Python:\n",
    "        M = (N >> 3) + (3 if N < 9 else 6)\n",
    "\n",
    "        N  0  1-4  5-8  9-16  17-25  26-35  36-46  ...  991-1120\n",
    "        --------------------------------------------------------\n",
    "        M  0  4    8    16    25     35     46     ...  1120\n",
    "        \n",
    "**entropy**: the minimum number of bits required, on average, to store its outcomes."
   ]
  },
  {
   "cell_type": "code",
   "execution_count": 9,
   "metadata": {
    "ExecuteTime": {
     "end_time": "2020-12-21T17:11:06.886336Z",
     "start_time": "2020-12-21T17:11:06.882063Z"
    },
    "execution": {
     "iopub.execute_input": "2020-12-14T01:07:28.953672Z",
     "iopub.status.busy": "2020-12-14T01:07:28.953331Z",
     "iopub.status.idle": "2020-12-14T01:07:28.959468Z",
     "shell.execute_reply": "2020-12-14T01:07:28.958707Z",
     "shell.execute_reply.started": "2020-12-14T01:07:28.953635Z"
    },
    "init_cell": true
   },
   "outputs": [],
   "source": [
    "class DynamicArraySet(DynamicArraySet):\n",
    "\n",
    "    def _resize(self):\n",
    "        \"\"\"Resize the underlying array\"\"\"\n",
    "        flat_list = [e for sl in self for e in sl if e is not None]\n",
    "        alloc_memory = int((self.n >> 3) + (3 if self.n < 9 else 6))\n",
    "\n",
    "        self.store = [[] for _ in range(self.size + alloc_memory + 1)]\n",
    "        self.n = 0\n",
    "        for el in flat_list:\n",
    "            self.add(el)"
   ]
  },
  {
   "cell_type": "markdown",
   "metadata": {},
   "source": [
    "Include some standard mathematical operations computed with sets:\n",
    "1. **`difference`**\n",
    "2. **`intersection`**\n",
    "    - Defining `__and__` allows using `&` as an alias for `intersection`\n",
    "3. **`union`**\n",
    "    - Defining `__or__` allows using `|` as an alias for `union`"
   ]
  },
  {
   "cell_type": "code",
   "execution_count": 10,
   "metadata": {
    "ExecuteTime": {
     "end_time": "2020-12-21T17:11:06.894752Z",
     "start_time": "2020-12-21T17:11:06.888889Z"
    },
    "code_folding": [],
    "execution": {
     "iopub.execute_input": "2020-12-16T03:59:16.424743Z",
     "iopub.status.busy": "2020-12-16T03:59:16.424089Z",
     "iopub.status.idle": "2020-12-16T03:59:16.431244Z",
     "shell.execute_reply": "2020-12-16T03:59:16.430304Z",
     "shell.execute_reply.started": "2020-12-16T03:59:16.424707Z"
    },
    "init_cell": true,
    "run_control": {
     "marked": false
    },
    "scrolled": true
   },
   "outputs": [],
   "source": [
    "class DynamicArraySet(DynamicArraySet):\n",
    "    \n",
    "    def difference(self, s: iter) -> list:\n",
    "        \"\"\"Return a list of elements present on one set, but not on the other\"\"\"\n",
    "        return [e for _ in self for e in _ if e is not None and e not in s]\n",
    "\n",
    "    def intersection(self, s2: iter) -> list:\n",
    "        \"\"\"Returns the set of elements that are common to both sets\"\"\"\n",
    "        return [e for _ in self for e in _ if e is not None and e in s2]\n",
    "    \n",
    "    __and__ = intersection\n",
    "\n",
    "    def union(self, s2: iter) -> list:\n",
    "        \"\"\"Returns the set of all distinct elements present in both sets\"\"\"\n",
    "        flat_l = [e for _ in self for e in _ if e is not None]\n",
    "        other_list = [e for e in s2 if e not in flat_l]\n",
    "        flat_l.extend(other_list)\n",
    "        return flat_l\n",
    "    \n",
    "    __or__ = union"
   ]
  },
  {
   "cell_type": "markdown",
   "metadata": {},
   "source": [
    "## Profiling\n",
    "\n",
    "### Memory\n",
    "\n",
    "`ipython_memory_usage` reports memory usage deltas for every command you type. This tool helps you to figure out which commands use a lot of RAM and take a long time to run, this is very useful if you're working with large matrices. In addition it reports the peak memory usage whilst a command is running which might be higher (due to temporary objects) than the final RAM usage. Built on `memory_profiler`."
   ]
  },
  {
   "cell_type": "code",
   "execution_count": 11,
   "metadata": {
    "ExecuteTime": {
     "end_time": "2020-12-21T17:11:07.003001Z",
     "start_time": "2020-12-21T17:11:06.897151Z"
    },
    "execution": {
     "iopub.execute_input": "2020-12-14T01:07:28.971881Z",
     "iopub.status.busy": "2020-12-14T01:07:28.971580Z",
     "iopub.status.idle": "2020-12-14T01:07:29.082227Z",
     "shell.execute_reply": "2020-12-14T01:07:29.081296Z",
     "shell.execute_reply.started": "2020-12-14T01:07:28.971855Z"
    },
    "init_cell": true,
    "run_control": {
     "marked": false
    },
    "scrolled": true,
    "tags": [
     "memory_profiler"
    ]
   },
   "outputs": [
    {
     "name": "stdout",
     "output_type": "stream",
     "text": [
      "In [11] used 0.4453 MiB RAM in 0.18s, peaked 0.00 MiB above current, total RAM usage 46.64 MiB\n"
     ]
    }
   ],
   "source": [
    "imu.start_watching_memory()"
   ]
  },
  {
   "cell_type": "markdown",
   "metadata": {},
   "source": [
    "<div class=\"alert alert-block alert-info\">\n",
    "    <p><b>MiB</b><span> - A mebibyte contains $1024^{2}$ bytes. 1 Mebibytes to Bytes = 1048576</span></p><br>\n",
    "    <code>memory_profiler</code> uses MiB - an output of <code>0 MiB RAM</code> indicates our data structure used an insignificant (to a profiler) amount of memory that could be better represented in bytes.\n",
    "    Same goes with getting <code>0s</code> instead of using ms.\n",
    " <pre>\n",
    " s1 = DynamicArraySet()\n",
    " for i in range(100):\n",
    "     s1.add(i * 4)\n",
    " </pre>\n",
    "</div>"
   ]
  },
  {
   "cell_type": "code",
   "execution_count": 12,
   "metadata": {
    "ExecuteTime": {
     "end_time": "2020-12-21T17:11:07.331192Z",
     "start_time": "2020-12-21T17:11:07.006050Z"
    },
    "code_folding": [],
    "execution": {
     "iopub.execute_input": "2020-12-14T01:07:29.084146Z",
     "iopub.status.busy": "2020-12-14T01:07:29.083815Z",
     "iopub.status.idle": "2020-12-14T01:07:29.407151Z",
     "shell.execute_reply": "2020-12-14T01:07:29.406127Z",
     "shell.execute_reply.started": "2020-12-14T01:07:29.084113Z"
    },
    "hideCode": true,
    "hide_input": true,
    "init_cell": true,
    "jupyter": {
     "source_hidden": true
    },
    "run_control": {
     "marked": false
    },
    "scrolled": true,
    "tags": [
     "memory_profiler"
    ]
   },
   "outputs": [
    {
     "data": {
      "text/markdown": [
       "<span style='color:blue'>RAM at start: 46.7MiB</span>"
      ],
      "text/plain": [
       "<IPython.core.display.Markdown object>"
      ]
     },
     "metadata": {},
     "output_type": "display_data"
    },
    {
     "data": {
      "text/markdown": [
       "<span style='color:blue'>Loading: 100 elements</span>"
      ],
      "text/plain": [
       "<IPython.core.display.Markdown object>"
      ]
     },
     "metadata": {},
     "output_type": "display_data"
    },
    {
     "data": {
      "text/markdown": [
       "<span style='color:blue'>RAM after creating list: 46.7MiB, took 0.0s</span>"
      ],
      "text/plain": [
       "<IPython.core.display.Markdown object>"
      ]
     },
     "metadata": {},
     "output_type": "display_data"
    },
    {
     "name": "stdout",
     "output_type": "stream",
     "text": [
      "In [12] used 0.0781 MiB RAM in 0.32s, peaked 0.00 MiB above current, total RAM usage 46.72 MiB\n"
     ]
    }
   ],
   "source": [
    "printmd(f'RAM at start: {memory_profiler.memory_usage()[0]:0.1f}MiB', color=\"blue\")\n",
    "t1 = time.time()\n",
    "\n",
    "s1 = DynamicArraySet()\n",
    "for i in range(100):\n",
    "    s1.add(i * 4)\n",
    "\n",
    "printmd(f'Loading: {s1.n} elements', color=\"blue\")\n",
    "t2 = time.time()\n",
    "\n",
    "printmd(f'RAM after creating list: {memory_profiler.memory_usage()[0]:0.1f}MiB, took {t2 - t1:0.1f}s', color=\"blue\")"
   ]
  },
  {
   "cell_type": "markdown",
   "metadata": {},
   "source": [
    "<div class=\"alert alert-block alert-info\">\n",
    "    With a larger set of elements, MiB and s are more useful.\n",
    "  <pre>\n",
    "  s2 = DynamicArraySet()\n",
    "  for i in range(1000000):\n",
    "      s2.add(i * 4)\n",
    "  </pre>\n",
    "</div>"
   ]
  },
  {
   "cell_type": "code",
   "execution_count": 13,
   "metadata": {
    "ExecuteTime": {
     "end_time": "2020-12-21T17:11:40.886591Z",
     "start_time": "2020-12-21T17:11:07.334123Z"
    },
    "code_folding": [],
    "execution": {
     "iopub.execute_input": "2020-12-14T01:07:29.409245Z",
     "iopub.status.busy": "2020-12-14T01:07:29.408823Z",
     "iopub.status.idle": "2020-12-14T01:08:00.744085Z",
     "shell.execute_reply": "2020-12-14T01:08:00.742947Z",
     "shell.execute_reply.started": "2020-12-14T01:07:29.409204Z"
    },
    "header": "hi",
    "hideCode": true,
    "hide_input": true,
    "init_cell": true,
    "jupyter": {
     "source_hidden": true
    },
    "scrolled": true,
    "tags": [
     "memory_profiler"
    ]
   },
   "outputs": [
    {
     "data": {
      "text/markdown": [
       "<span style='color:blue'>RAM at start: 46.7MiB</span>"
      ],
      "text/plain": [
       "<IPython.core.display.Markdown object>"
      ]
     },
     "metadata": {},
     "output_type": "display_data"
    },
    {
     "data": {
      "text/markdown": [
       "<span style='color:blue'>Loading: 1000000 elements</span>"
      ],
      "text/plain": [
       "<IPython.core.display.Markdown object>"
      ]
     },
     "metadata": {},
     "output_type": "display_data"
    },
    {
     "data": {
      "text/markdown": [
       "<span style='color:blue'>RAM after creating list: 207.8MiB, took 33.2s</span>"
      ],
      "text/plain": [
       "<IPython.core.display.Markdown object>"
      ]
     },
     "metadata": {},
     "output_type": "display_data"
    },
    {
     "name": "stdout",
     "output_type": "stream",
     "text": [
      "In [13] used 161.0508 MiB RAM in 33.55s, peaked 31.96 MiB above current, total RAM usage 207.77 MiB\n"
     ]
    }
   ],
   "source": [
    "printmd(f'RAM at start: {memory_profiler.memory_usage()[0]:0.1f}MiB', color=\"blue\")\n",
    "t1 = time.time()\n",
    "\n",
    "s2 = DynamicArraySet()\n",
    "for i in range(1000000):\n",
    "    s2.add(i * 4)\n",
    "\n",
    "printmd(f'Loading: {s2.n} elements', color=\"blue\")\n",
    "t2 = time.time()\n",
    "\n",
    "printmd(f'RAM after creating list: {memory_profiler.memory_usage()[0]:0.1f}MiB, took {t2 - t1:0.1f}s', color=\"blue\")"
   ]
  },
  {
   "cell_type": "code",
   "execution_count": 14,
   "metadata": {
    "ExecuteTime": {
     "end_time": "2020-12-21T17:11:40.892393Z",
     "start_time": "2020-12-21T17:11:40.889095Z"
    },
    "execution": {
     "iopub.execute_input": "2020-12-14T01:08:00.745785Z",
     "iopub.status.busy": "2020-12-14T01:08:00.745411Z",
     "iopub.status.idle": "2020-12-14T01:08:00.750071Z",
     "shell.execute_reply": "2020-12-14T01:08:00.749120Z",
     "shell.execute_reply.started": "2020-12-14T01:08:00.745748Z"
    },
    "hide_input": false,
    "init_cell": true,
    "jupyter": {
     "source_hidden": true
    },
    "run_control": {
     "marked": false
    },
    "tags": [
     "memory_profiler"
    ]
   },
   "outputs": [],
   "source": [
    "imu.stop_watching_memory()"
   ]
  },
  {
   "cell_type": "markdown",
   "metadata": {},
   "source": [
    "Python's magic `%%capture` command runs the cell, capturing `stdout`, `stderr`, and `IPython`’s rich `display()` calls. Save it to a variable to have reference to it for quickly displaying the output another time. Otherwise, the captured output will be discarded. I used it to prevent my `print` from outputting because the result is too long and cannot be hidden in static environments, such as on Github. \n",
    "\n",
    "Below, we can later access the contents of the captured variable by invoking them with `()`. For example, to show the print statement that was captured as `cap_s`, we would just execute `cap_s()`"
   ]
  },
  {
   "cell_type": "code",
   "execution_count": 15,
   "metadata": {
    "ExecuteTime": {
     "end_time": "2020-12-21T17:11:40.899669Z",
     "start_time": "2020-12-21T17:11:40.895195Z"
    },
    "code_folding": [],
    "execution": {
     "iopub.execute_input": "2020-12-14T01:08:00.751828Z",
     "iopub.status.busy": "2020-12-14T01:08:00.751569Z",
     "iopub.status.idle": "2020-12-14T01:08:00.756801Z",
     "shell.execute_reply": "2020-12-14T01:08:00.755802Z",
     "shell.execute_reply.started": "2020-12-14T01:08:00.751798Z"
    },
    "init_cell": true
   },
   "outputs": [],
   "source": [
    "%%capture cap_s\n",
    "print(s1, repr(s1), sep='\\n\\n')"
   ]
  },
  {
   "cell_type": "code",
   "execution_count": 16,
   "metadata": {
    "ExecuteTime": {
     "end_time": "2020-12-21T17:11:40.905827Z",
     "start_time": "2020-12-21T17:11:40.902346Z"
    },
    "execution": {
     "iopub.execute_input": "2020-12-14T01:08:00.758497Z",
     "iopub.status.busy": "2020-12-14T01:08:00.758106Z",
     "iopub.status.idle": "2020-12-14T01:08:00.762722Z",
     "shell.execute_reply": "2020-12-14T01:08:00.761973Z",
     "shell.execute_reply.started": "2020-12-14T01:08:00.758463Z"
    },
    "init_cell": true,
    "run_control": {
     "marked": false
    }
   },
   "outputs": [
    {
     "name": "stdout",
     "output_type": "stream",
     "text": [
      "DynamicArraySet(size: 106, count: 100, store: [[0, 212], [], [108, 320], [], [4, 216], [], [112, 324], [], [8, 220], [], [116, 328], [], [12, 224], [], [120, 332], [], [16, 228], [], [124, 336], [], [20, 232], [], [128, 340], [], [24, 236], [], [132, 344], [], [28, 240], [], [136, 348], [], [32, 244], [], [352, 140], [], [36, 248], [], [144, 356], [], [40, 252], [], [148, 360], [], [44, 256], [], [152, 364], [], [48, 260], [], [156, 368], [], [264, 52], [], [160, 372], [], [268, 56], [], [164, 376], [], [272, 60], [], [168, 380], [], [276, 64], [], [172, 384], [], [280, 68], [], [176, 388], [], [284, 72], [], [180, 392], [], [288, 76], [], [184, 396], [], [292, 80], [], [188], [], [296, 84], [], [192], [], [88, 300], [], [196], [], [92, 304], [], [200], [], [96, 308], [], [204], [], [100, 312], [], [208], [], [104, 316], []])\n",
      "\n",
      "{0, 212, 108, 320, 4, 216, 112, 324, 8, 220, 116, 328, 12, 224, 120, 332, 16, 228, 124, 336, 20, 232, 128, 340, 24, 236, 132, 344, 28, 240, 136, 348, 32, 244, 352, 140, 36, 248, 144, 356, 40, 252, 148, 360, 44, 256, 152, 364, 48, 260, 156, 368, 264, 52, 160, 372, 268, 56, 164, 376, 272, 60, 168, 380, 276, 64, 172, 384, 280, 68, 176, 388, 284, 72, 180, 392, 288, 76, 184, 396, 292, 80, 188, 296, 84, 192, 88, 300, 196, 92, 304, 200, 96, 308, 204, 100, 312, 208, 104, 316}\n"
     ]
    }
   ],
   "source": [
    "cap_s()"
   ]
  },
  {
   "cell_type": "code",
   "execution_count": 17,
   "metadata": {
    "ExecuteTime": {
     "end_time": "2020-12-21T17:11:41.313572Z",
     "start_time": "2020-12-21T17:11:40.908421Z"
    },
    "code_folding": [],
    "execution": {
     "iopub.execute_input": "2020-12-14T01:08:00.764324Z",
     "iopub.status.busy": "2020-12-14T01:08:00.764023Z",
     "iopub.status.idle": "2020-12-14T01:08:01.139025Z",
     "shell.execute_reply": "2020-12-14T01:08:01.138218Z",
     "shell.execute_reply.started": "2020-12-14T01:08:00.764283Z"
    },
    "hide_input": false,
    "init_cell": true,
    "run_control": {
     "marked": false
    }
   },
   "outputs": [],
   "source": [
    "%%capture cap_s2\n",
    "print(s2)"
   ]
  },
  {
   "cell_type": "markdown",
   "metadata": {},
   "source": [
    "## `in` membership test runs in constant time 0(1):"
   ]
  },
  {
   "cell_type": "code",
   "execution_count": 18,
   "metadata": {
    "ExecuteTime": {
     "end_time": "2020-12-21T17:11:41.358854Z",
     "start_time": "2020-12-21T17:11:41.315785Z"
    },
    "code_folding": [
     0
    ],
    "execution": {
     "iopub.execute_input": "2020-12-14T01:08:01.140582Z",
     "iopub.status.busy": "2020-12-14T01:08:01.140334Z",
     "iopub.status.idle": "2020-12-14T01:08:01.193054Z",
     "shell.execute_reply": "2020-12-14T01:08:01.192077Z",
     "shell.execute_reply.started": "2020-12-14T01:08:01.140552Z"
    },
    "hide_input": false,
    "init_cell": true,
    "scrolled": true,
    "tags": [
     "time_profiler"
    ]
   },
   "outputs": [
    {
     "data": {
      "text/markdown": [
       "<span style='color:blue'>Size of s1: 106, Count of elements: 100, Summed time to look up 15 is 0.0143s</span>"
      ],
      "text/plain": [
       "<IPython.core.display.Markdown object>"
      ]
     },
     "metadata": {},
     "output_type": "display_data"
    }
   ],
   "source": [
    "time_cost = sum(timeit.repeat(stmt=\"15 in s1\",\n",
    "                              setup=\"from __main__ import s1\",\n",
    "                              number=1,\n",
    "                              repeat=10000))\n",
    "printmd(f'Size of s1: {s1.size}, Count of elements: {s1.n}, Summed time to look up 15 is {time_cost:0.4f}s', color=\"blue\") "
   ]
  },
  {
   "cell_type": "code",
   "execution_count": 19,
   "metadata": {
    "ExecuteTime": {
     "end_time": "2020-12-21T17:11:41.399187Z",
     "start_time": "2020-12-21T17:11:41.360411Z"
    },
    "code_folding": [],
    "execution": {
     "iopub.execute_input": "2020-12-14T01:08:01.194728Z",
     "iopub.status.busy": "2020-12-14T01:08:01.194423Z",
     "iopub.status.idle": "2020-12-14T01:08:01.250074Z",
     "shell.execute_reply": "2020-12-14T01:08:01.249358Z",
     "shell.execute_reply.started": "2020-12-14T01:08:01.194697Z"
    },
    "init_cell": true,
    "run_control": {
     "marked": false
    },
    "tags": [
     "time_profiler"
    ]
   },
   "outputs": [
    {
     "data": {
      "text/markdown": [
       "<span style='color:blue'>Size of s2: 1087175, Count of elements: 1000000, Summed time to look up 15 is 0.0138s</span>"
      ],
      "text/plain": [
       "<IPython.core.display.Markdown object>"
      ]
     },
     "metadata": {},
     "output_type": "display_data"
    }
   ],
   "source": [
    "time_cost2 = sum(timeit.repeat(stmt=\"15 in s2\",\n",
    "                              setup=\"from __main__ import s2\",\n",
    "                              number=1,\n",
    "                              repeat=10000))\n",
    "printmd(f'Size of s2: {s2.size}, Count of elements: {s2.n}, Summed time to look up 15 is {time_cost2:0.4f}s', color=\"blue\")"
   ]
  },
  {
   "cell_type": "markdown",
   "metadata": {},
   "source": [
    "## DynamicHashSet\n",
    "\n",
    "We don't want to be limited to integers, so we subclass the `DynamicArraySet` to implement a more specific version that uses **hashing**. With this data type **we can now store keys of any immutable (hashable) type**."
   ]
  },
  {
   "cell_type": "code",
   "execution_count": 20,
   "metadata": {
    "ExecuteTime": {
     "end_time": "2020-12-21T17:11:41.406619Z",
     "start_time": "2020-12-21T17:11:41.400766Z"
    },
    "code_folding": [
     5,
     12,
     30
    ],
    "execution": {
     "iopub.execute_input": "2020-12-14T01:08:01.251627Z",
     "iopub.status.busy": "2020-12-14T01:08:01.251330Z",
     "iopub.status.idle": "2020-12-14T01:08:01.261020Z",
     "shell.execute_reply": "2020-12-14T01:08:01.260148Z",
     "shell.execute_reply.started": "2020-12-14T01:08:01.251597Z"
    },
    "init_cell": true
   },
   "outputs": [],
   "source": [
    "from typing import Hashable\n",
    "\n",
    "\n",
    "class DynamicHashSet(DynamicArraySet):\n",
    "\n",
    "    def contains(self, value: Hashable) -> bool:\n",
    "        if self.n == 0 or not 0 <= hash(value) % self.size <= self.size - 1:\n",
    "            return False\n",
    "        return value in self.store[hash(value) % self.size]\n",
    "\n",
    "    __contains__ = contains\n",
    "\n",
    "    def add(self, value: Hashable) -> bool:\n",
    "        if value not in self:\n",
    "            sub_list = self.store[hash(value) % self.size]\n",
    "            for idx, el in enumerate(sub_list):\n",
    "                if el is None:\n",
    "                    sub_list[idx] = value\n",
    "                    self.n += 1\n",
    "                    return True\n",
    "\n",
    "            sub_list.append(value)\n",
    "            self.n += 1\n",
    "\n",
    "            if self.size < self.n:\n",
    "                self._resize()\n",
    "\n",
    "            return True\n",
    "        return False\n",
    "\n",
    "    def discard(self, value: Hashable) -> bool:\n",
    "        if value in self:\n",
    "            sub_list = self.store[hash(value) % self.size]\n",
    "            for idx, el in enumerate(sub_list):\n",
    "                if el == value:\n",
    "                    del sub_list[idx]\n",
    "                    self.n -= 1\n",
    "                    return True\n",
    "        return False"
   ]
  },
  {
   "cell_type": "markdown",
   "metadata": {
    "hide_input": true
   },
   "source": [
    "<div class=\"alert alert-block alert-info\">\n",
    "We instantiate a <code>DynamicHashSet</code> instance now so we can see it's the same song and dance.\n",
    "  <pre>\n",
    "  str = 'Lorem ipsum dolor sit amet, consectetur adipiscing elit.'\n",
    "  word_list = str.split()\n",
    "  hs1 = DynamicHashSet()\n",
    "  for word in word_list:\n",
    "      hs1.add(word)\n",
    "      for char in word:\n",
    "          hs1.add(char)\n",
    "  </pre>\n",
    "</div>"
   ]
  },
  {
   "cell_type": "code",
   "execution_count": 21,
   "metadata": {
    "ExecuteTime": {
     "end_time": "2020-12-21T17:11:41.728497Z",
     "start_time": "2020-12-21T17:11:41.408298Z"
    },
    "code_folding": [],
    "execution": {
     "iopub.execute_input": "2020-12-14T01:08:01.262471Z",
     "iopub.status.busy": "2020-12-14T01:08:01.262083Z",
     "iopub.status.idle": "2020-12-14T01:08:01.583140Z",
     "shell.execute_reply": "2020-12-14T01:08:01.581936Z",
     "shell.execute_reply.started": "2020-12-14T01:08:01.262438Z"
    },
    "hideCode": true,
    "hidePrompt": false,
    "hide_input": true,
    "init_cell": true,
    "scrolled": true,
    "tags": [
     "memory_profiler"
    ]
   },
   "outputs": [
    {
     "data": {
      "text/markdown": [
       "<span style='color:blue'>RAM at start: 225.4MiB</span>"
      ],
      "text/plain": [
       "<IPython.core.display.Markdown object>"
      ]
     },
     "metadata": {},
     "output_type": "display_data"
    },
    {
     "data": {
      "text/markdown": [
       "<span style='color:blue'>Loading: 26 elements</span>"
      ],
      "text/plain": [
       "<IPython.core.display.Markdown object>"
      ]
     },
     "metadata": {},
     "output_type": "display_data"
    },
    {
     "data": {
      "text/markdown": [
       "<span style='color:blue'>RAM after creating list: 225.4MiB, took 0.0s</span>"
      ],
      "text/plain": [
       "<IPython.core.display.Markdown object>"
      ]
     },
     "metadata": {},
     "output_type": "display_data"
    },
    {
     "name": "stdout",
     "output_type": "stream",
     "text": [
      "In [21] used 17.6016 MiB RAM in 0.84s, peaked 0.00 MiB above current, total RAM usage 225.37 MiB\n"
     ]
    }
   ],
   "source": [
    "imu.start_watching_memory()\n",
    "printmd(f'RAM at start: {memory_profiler.memory_usage()[0]:0.1f}MiB', color=\"blue\")\n",
    "t1 = time.time()\n",
    "\n",
    "str = 'Lorem ipsum dolor sit amet, consectetur adipiscing elit.'\n",
    "word_list = str.split()\n",
    "hs1 = DynamicHashSet()\n",
    "for word in word_list:\n",
    "    hs1.add(word)\n",
    "    for char in word:\n",
    "        hs1.add(char)\n",
    "\n",
    "t2 = time.time()\n",
    "printmd(f'Loading: {hs1.n} elements', color=\"blue\")\n",
    "printmd(f'RAM after creating list: {memory_profiler.memory_usage()[0]:0.1f}MiB, took {t2 - t1:0.1f}s', color=\"blue\")\n",
    "\n"
   ]
  },
  {
   "cell_type": "code",
   "execution_count": 22,
   "metadata": {
    "ExecuteTime": {
     "end_time": "2020-12-21T17:11:41.734354Z",
     "start_time": "2020-12-21T17:11:41.731008Z"
    },
    "execution": {
     "iopub.execute_input": "2020-12-14T01:08:01.584897Z",
     "iopub.status.busy": "2020-12-14T01:08:01.584556Z",
     "iopub.status.idle": "2020-12-14T01:08:01.588909Z",
     "shell.execute_reply": "2020-12-14T01:08:01.587950Z",
     "shell.execute_reply.started": "2020-12-14T01:08:01.584864Z"
    },
    "hide_input": true,
    "init_cell": true,
    "tags": [
     "memory_profiler"
    ]
   },
   "outputs": [],
   "source": [
    "imu.stop_watching_memory()"
   ]
  },
  {
   "cell_type": "markdown",
   "metadata": {
    "hide_input": true
   },
   "source": [
    "<div class=\"alert alert-block alert-info\">\n",
    "    We can use the set computation methods we implemented on <code>DynamicArraySet</code> to check that the    results of the for loop were as expected.\n",
    "</div>"
   ]
  },
  {
   "cell_type": "code",
   "execution_count": 23,
   "metadata": {
    "ExecuteTime": {
     "end_time": "2020-12-21T17:11:41.754221Z",
     "start_time": "2020-12-21T17:11:41.743379Z"
    },
    "execution": {
     "iopub.execute_input": "2020-12-14T01:08:01.590222Z",
     "iopub.status.busy": "2020-12-14T01:08:01.589933Z",
     "iopub.status.idle": "2020-12-14T01:08:01.599257Z",
     "shell.execute_reply": "2020-12-14T01:08:01.598426Z",
     "shell.execute_reply.started": "2020-12-14T01:08:01.590195Z"
    },
    "init_cell": true,
    "scrolled": true
   },
   "outputs": [
    {
     "data": {
      "text/markdown": [
       "<span style='color:blue'>Elements in 'hs1' not in 'word_list': ['u', 'a', 'o', 't', 'm', '.', 'p', 'e', 'd', ',', 'r', 'L', 'c', 'g', 'l', 'n', 'i', 's']</span>"
      ],
      "text/plain": [
       "<IPython.core.display.Markdown object>"
      ]
     },
     "metadata": {},
     "output_type": "display_data"
    },
    {
     "data": {
      "text/markdown": [
       "<span style='color:blue'>Elements in 'word_list' not in 'hs1': set()</span>"
      ],
      "text/plain": [
       "<IPython.core.display.Markdown object>"
      ]
     },
     "metadata": {},
     "output_type": "display_data"
    },
    {
     "data": {
      "text/markdown": [
       "<span style='color:blue'>Count of unique words + unique chars in 'str': 26</span>"
      ],
      "text/plain": [
       "<IPython.core.display.Markdown object>"
      ]
     },
     "metadata": {},
     "output_type": "display_data"
    },
    {
     "data": {
      "text/markdown": [
       "<span style='color:blue'>Length of 'hs1': 26</span>"
      ],
      "text/plain": [
       "<IPython.core.display.Markdown object>"
      ]
     },
     "metadata": {},
     "output_type": "display_data"
    }
   ],
   "source": [
    "printmd(f'Elements in \\'hs1\\' not in \\'word_list\\': {hs1.difference(word_list)}', color=\"blue\")\n",
    "printmd(f'Elements in \\'word_list\\' not in \\'hs1\\': {set(word_list).difference([e for _ in hs1.store for e in _ if e is not None])}', color=\"blue\")\n",
    "printmd(f'Count of unique words + unique chars in \\'str\\': {len(set(word_list + [char for word in word_list for char in word if char]))}', color=\"blue\")\n",
    "printmd(f'Length of \\'hs1\\': {hs1.n}', color=\"blue\")"
   ]
  }
 ],
 "metadata": {
  "gist": {
   "data": {
    "description": "Untitled.ipynb",
    "public": false
   },
   "id": ""
  },
  "hide_input": false,
  "jupytext": {
   "formats": "ipynb,md"
  },
  "kernelspec": {
   "display_name": "Python 3",
   "language": "python",
   "name": "python3"
  },
  "language_info": {
   "codemirror_mode": {
    "name": "ipython",
    "version": 3
   },
   "file_extension": ".py",
   "mimetype": "text/x-python",
   "name": "python",
   "nbconvert_exporter": "python",
   "pygments_lexer": "ipython3",
   "version": "3.9.0"
  },
  "latex_envs": {
   "LaTeX_envs_menu_present": true,
   "autoclose": false,
   "autocomplete": true,
   "bibliofile": "biblio.bib",
   "cite_by": "apalike",
   "current_citInitial": 1,
   "eqLabelWithNumbers": true,
   "eqNumInitial": 1,
   "hotkeys": {
    "equation": "Ctrl-E",
    "itemize": "Ctrl-I"
   },
   "labels_anchors": false,
   "latex_user_defs": false,
   "report_style_numbering": false,
   "user_envs_cfg": false
  },
  "varInspector": {
   "cols": {
    "lenName": 16,
    "lenType": 16,
    "lenVar": 40
   },
   "kernels_config": {
    "python": {
     "delete_cmd_postfix": "",
     "delete_cmd_prefix": "del ",
     "library": "var_list.py",
     "varRefreshCmd": "print(var_dic_list())"
    },
    "r": {
     "delete_cmd_postfix": ") ",
     "delete_cmd_prefix": "rm(",
     "library": "var_list.r",
     "varRefreshCmd": "cat(var_dic_list()) "
    }
   },
   "position": {
    "height": "254px",
    "left": "961px",
    "right": "20px",
    "top": "-2px",
    "width": "461px"
   },
   "types_to_exclude": [
    "module",
    "function",
    "builtin_function_or_method",
    "instance",
    "_Feature"
   ],
   "window_display": false
  },
  "widgets": {
   "application/vnd.jupyter.widget-state+json": {
    "state": {},
    "version_major": 2,
    "version_minor": 0
   }
  }
 },
 "nbformat": 4,
 "nbformat_minor": 4
}
