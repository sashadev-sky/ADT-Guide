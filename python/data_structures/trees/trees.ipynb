{
 "cells": [
  {
   "cell_type": "markdown",
   "metadata": {},
   "source": [
    "# Trees"
   ]
  },
  {
   "cell_type": "markdown",
   "metadata": {},
   "source": [
    "**Configurations**"
   ]
  },
  {
   "cell_type": "code",
   "execution_count": 18,
   "metadata": {
    "ExecuteTime": {
     "end_time": "2020-12-21T20:18:28.746771Z",
     "start_time": "2020-12-21T20:18:28.731891Z"
    },
    "init_cell": true
   },
   "outputs": [],
   "source": [
    "from IPython.display import Markdown, display\n",
    "def printmd(string, color=None):\n",
    "    colorstr = \"<span style='color:{}'>{}</span>\".format(color, string)\n",
    "    display(Markdown(colorstr))"
   ]
  },
  {
   "cell_type": "markdown",
   "metadata": {
    "ExecuteTime": {
     "end_time": "2020-12-21T17:06:30.103884Z",
     "start_time": "2020-12-21T17:06:30.099938Z"
    }
   },
   "source": [
    "## TreeNode\n",
    "<div class=\"alert alert-block alert-info\" style=\"color:navy;font-family:math\">\n",
    "    <p>When creating a tree object, you can keep all the business logic in a <code>Node</code> class</p>\n",
    "    <ul>\n",
    "        <li><p><code>num_children</code>: our <code>BinarySearchTree</code> class needs to check the number of children a node has before removing it - based on the count (always 0, 1, or 2) the insertion procedure will be slightly different</p></li>\n",
    "    </ul>\n",
    " </div>\n",
    "        "
   ]
  },
  {
   "cell_type": "code",
   "execution_count": 19,
   "metadata": {
    "ExecuteTime": {
     "end_time": "2020-12-21T20:18:28.764052Z",
     "start_time": "2020-12-21T20:18:28.750158Z"
    },
    "init_cell": true
   },
   "outputs": [],
   "source": [
    "class TreeNode:\n",
    "    def __init__(self, key, val):\n",
    "        self.key = key\n",
    "        self.val = val\n",
    "        self.right_child = None\n",
    "        self.left_child = None\n",
    "    \n",
    "    def num_children(self):\n",
    "        return sum(c is not None for c in [self.left_child, self.right_child])"
   ]
  },
  {
   "cell_type": "code",
   "execution_count": 14,
   "metadata": {
    "ExecuteTime": {
     "end_time": "2020-12-21T17:07:18.232508Z",
     "start_time": "2020-12-21T17:07:18.212402Z"
    }
   },
   "outputs": [
    {
     "data": {
      "text/markdown": [
       "<span style='color:blue'>root</span>"
      ],
      "text/plain": [
       "<IPython.core.display.Markdown object>"
      ]
     },
     "metadata": {},
     "output_type": "display_data"
    },
    {
     "data": {
      "text/markdown": [
       "<span style='color:blue'>left child</span>"
      ],
      "text/plain": [
       "<IPython.core.display.Markdown object>"
      ]
     },
     "metadata": {},
     "output_type": "display_data"
    },
    {
     "data": {
      "text/markdown": [
       "<span style='color:blue'>left grandchild</span>"
      ],
      "text/plain": [
       "<IPython.core.display.Markdown object>"
      ]
     },
     "metadata": {},
     "output_type": "display_data"
    }
   ],
   "source": [
    "n1, n2, n3, n4 = TreeNode(1, \"root\"), TreeNode(2, \"left child\"), TreeNode(3, \"right child\"), TreeNode(4, \"left grandchild\")\n",
    "  \n",
    "n1.left_child = n2\n",
    "n1.right_child = n3\n",
    "n2.left_child = n4\n",
    "\n",
    "current = n1\n",
    "while current:\n",
    "    printmd(current.val, color=\"blue\")\n",
    "    current = current.left_child"
   ]
  },
  {
   "cell_type": "markdown",
   "metadata": {},
   "source": [
    "### Terminology\n",
    "\n",
    "<div class=\"alert alert-block alert-info\" style=\"color:navy;font-family:math\">\n",
    "    <p><strong>binary tree</strong>: a tree in which each node has a maximum of 2 children</p> \n",
    "    <p><strong>binary search tree</strong>: a binary search tree with a defined structure - see class below for details</p> \n",
    "    <p><strong>leaf node</strong>: a node with no children</p> "
   ]
  },
  {
   "cell_type": "markdown",
   "metadata": {},
   "source": [
    "## BinarySearchTree"
   ]
  },
  {
   "cell_type": "markdown",
   "metadata": {},
   "source": [
    "#### The structure of this BST:\n",
    "<div class=\"alert alert-block alert-info\" style=\"color:navy;font-family:math\">\n",
    "    <p><em>For a given node with a value:</em></p>\n",
    "    <ol>\n",
    "        <li>All the nodes in the <strong>left</strong> sub-tree are <strong>less than or equal</strong> to the value of that node</li>\n",
    "        <li>All the nodes in the <strong>right</strong> sub-tree are <strong>greater than</strong> the value of that node</li>\n",
    "    </ol>\n",
    " </div>\n",
    " \n",
    "####  \\_\\_init\\__ :"
   ]
  },
  {
   "cell_type": "code",
   "execution_count": 16,
   "metadata": {
    "ExecuteTime": {
     "end_time": "2020-12-21T17:21:38.982138Z",
     "start_time": "2020-12-21T17:21:38.977326Z"
    }
   },
   "outputs": [],
   "source": [
    "class BinarySearchTree:\n",
    "    def __init__(self):\n",
    "        \"\"\"\n",
    "        create an empty binary search tree\n",
    "        root_node: we want the tree to hold a reference to its own root node - that's all that is needed to maintain the state of a tree.\n",
    "        \"\"\"\n",
    "        self.root_node = None"
   ]
  },
  {
   "cell_type": "markdown",
   "metadata": {},
   "source": [
    "#### find_min & find_max :"
   ]
  },
  {
   "cell_type": "markdown",
   "metadata": {},
   "source": [
    "<div class=\"alert alert-block alert-info\" style=\"color:navy;font-family:math\">\n",
    "    <p><strong>Complexity</strong>:</p>\n",
    "    <p>It takes $O(h)$ to find the minimum or maximum value in a BST, where $h$ is the height of the tree.</p>\n",
    "</div>"
   ]
  },
  {
   "cell_type": "code",
   "execution_count": 17,
   "metadata": {
    "ExecuteTime": {
     "end_time": "2020-12-21T17:21:40.109007Z",
     "start_time": "2020-12-21T17:21:40.104698Z"
    }
   },
   "outputs": [],
   "source": [
    "class BinarySearchTree(BinarySearchTree):\n",
    "    def find_min(self):\n",
    "        curr = self.root_node\n",
    "        while curr.left_child: \n",
    "            curr = curr.left_child\n",
    "        return curr\n",
    "    \n",
    "    def find_max(self):\n",
    "        curr = self.root_node\n",
    "        while curr.right_child: \n",
    "            curr = curr.right_child\n",
    "        return curr"
   ]
  },
  {
   "cell_type": "markdown",
   "metadata": {},
   "source": [
    "#### insert :\n",
    "<div class=\"alert alert-block alert-info\" style=\"color:navy;font-family:math\">\n",
    "    <p><strong>Complexity</strong>:</p> \n",
    "    <span>Insertion of a node in a BST takes $O(h)$, where $h$ is the height of tree</span>\n",
    "    <p><strong>Implementation</strong>:</p>\n",
    "    \n",
    "1. Create a new `TreeNode`\n",
    "2. If this is the 1st node in our tree, set it to `root_node`\n",
    "3. Save a reference to the current node (will always initially be `self.root_node`)\n",
    "4. Initialize a `parent` variable to `None`\n",
    "5. Set `parent` to the current node\n",
    "6. All the value is `<=` the `root_node` value, traverse the left side of the tree. Otherwise, traverse the right\n",
    "7. Check whether the current node has a child node. If it doesn't (you hit `None`), this is where we insert the new node. Insert it just by setting it as a child of `parent`\n",
    "    \n",
    "</div>"
   ]
  },
  {
   "cell_type": "code",
   "execution_count": null,
   "metadata": {},
   "outputs": [],
   "source": [
    "class BinarySearchTree(BinarySearchTree):\n",
    "    def insert(self, key, val):\n",
    "        node = TreeNode(key, val)\n",
    "        if self.root_node is None: \n",
    "            self.root_node = node\n",
    "        else:\n",
    "            curr = self.root_node\n",
    "            parent = None\n",
    "            while True:\n",
    "                parent = curr\n",
    "                if node.val <= curr.val:\n",
    "                    curr = curr.left_child\n",
    "                    if curr is None:\n",
    "                        parent.left_child = node\n",
    "                        return\n",
    "                else:\n",
    "                    curr = curr.right_child\n",
    "                    if curr is None:\n",
    "                        parent.right_child = node\n",
    "                        return"
   ]
  },
  {
   "cell_type": "markdown",
   "metadata": {},
   "source": [
    "#### remove :\n",
    "<div class=\"alert alert-block alert-info\" style=\"color:navy;font-family:math\">\n",
    "    <p><strong>Complexity</strong>:</p> \n",
    "    <span>Removal of a node in a BST takes $O(h)$, where $h$ is the height of tree</span>\n",
    "    <p><strong>Implementation</strong>:</p>\n",
    "    <p>There are 3 different removal procedures based on the number of children the node has:</p>\n",
    "    <ul>\n",
    "        <li><strong>0 children</strong>: No additional work, just set the node to <code>None</code> (If it was the last node in the tree, setting <code>root_node</code> to <code>None</code>)</li>\n",
    "        <li><strong>1 child</strong>: Save a reference to it in <code>next_node</code>. If the current node has a <code>parent</code>, set its child as a child of the parent. Otherwise, it must have been the <code>root_node</code> so set its child to <code>root_node</code></li>\n",
    "        <li><strong>2 children</strong>: Most comlicated scenario. We need to find the next biggest descendant of the node's value (the <strong>in-order successor</strong> of the node). In this case we know it has to be to the right, not left, because we put bigger elements right. Instead of deleting the node, replace its value with the successors value, and then delete the successor because it never will have children by definition, so we can follow the simpler \"0 children\" removal protocol.</li>\n"
   ]
  },
  {
   "cell_type": "code",
   "execution_count": null,
   "metadata": {},
   "outputs": [],
   "source": [
    "class BinarySearchTree(BinarySearchTree):\n",
    "    def get_node_with_parent(self, val):\n",
    "        \"\"\"\n",
    "        Our node class does not have reference to a parent.\n",
    "        As such, we need to use a helper method to search for and return\n",
    "        the node with its parent node. This method is similar to `search`. (See later)\n",
    "\n",
    "        The only difference is that before we update the current variable inside\n",
    "        the loop, we store its parent with parent = current.\n",
    "        \"\"\"\n",
    "        parent = None\n",
    "        curr = self.root_node\n",
    "        if curr is None: \n",
    "            return parent, None\n",
    "        while True:\n",
    "            if curr.val == val: \n",
    "                return parent, curr\n",
    "            elif curr.val >= val:\n",
    "                parent = curr\n",
    "                curr = curr.left_child\n",
    "            else:\n",
    "                parent = curr\n",
    "                curr = curr.right_child\n",
    "    \n",
    "    def remove(self, val):\n",
    "        parent, node = self.get_node_with_parent(val)\n",
    "    \n",
    "        if parent is None and node is None: \n",
    "            return False\n",
    "\n",
    "        children_count = node.num_children()\n",
    "        if children_count == 0:\n",
    "            if parent:\n",
    "                if parent.right_child is node: \n",
    "                    parent.right_child = None\n",
    "                else: \n",
    "                    parent.left_child = None\n",
    "            else:\n",
    "                self.root_node = None\n",
    "        elif children_count == 1:\n",
    "            next_node = node.left_child if node.left_child else node.right_child\n",
    "\n",
    "            if parent:\n",
    "                if parent.left_child is node: \n",
    "                    parent.left_child = next_node\n",
    "                else: \n",
    "                    parent.right_child = next_node\n",
    "            else:\n",
    "                self.root_node = next_node\n",
    "        else:\n",
    "            parent_of_leftmost_node = node\n",
    "            leftmost_node = node.right_child\n",
    "            while leftmost_node.left_child:\n",
    "                parent_of_leftmost_node = leftmost_node\n",
    "                leftmost_node = leftmost_node.left_child\n",
    "\n",
    "            node.val = leftmost_node.val\n",
    "\n",
    "            if parent_of_leftmost_node.left_child == leftmost_node:\n",
    "                parent_of_leftmost_node.left_child = leftmost_node.right_child\n",
    "            else:\n",
    "                parent_of_leftmost_node.right_child = leftmost_node.right_child"
   ]
  },
  {
   "cell_type": "markdown",
   "metadata": {},
   "source": [
    "#### search\n",
    "<div class=\"alert alert-block alert-info\" style=\"color:navy;font-family:math\">\n",
    "    <p>Return the data value if found or <code>None</code> if not</p>\n",
    "</div>"
   ]
  },
  {
   "cell_type": "code",
   "execution_count": null,
   "metadata": {},
   "outputs": [],
   "source": [
    "class BinarySearchTree(BinarySearchTree):\n",
    "    def search(self, val):\n",
    "        curr = self.root_node\n",
    "        while True:\n",
    "            # We may have passed a leaf node, in which case the data doesn't\n",
    "            # exist in the tree and we return None to the client code:\n",
    "            if curr is None: \n",
    "                return None\n",
    "            elif curr.val == val: \n",
    "                return val\n",
    "            elif curr.val >= val: \n",
    "                curr = curr.left_child\n",
    "            else: \n",
    "                curr = curr.right_child"
   ]
  }
 ],
 "metadata": {
  "hide_input": false,
  "kernelspec": {
   "display_name": "Python 3",
   "language": "python",
   "name": "python3"
  },
  "language_info": {
   "codemirror_mode": {
    "name": "ipython",
    "version": 3
   },
   "file_extension": ".py",
   "mimetype": "text/x-python",
   "name": "python",
   "nbconvert_exporter": "python",
   "pygments_lexer": "ipython3",
   "version": "3.9.0"
  },
  "latex_envs": {
   "LaTeX_envs_menu_present": true,
   "autoclose": false,
   "autocomplete": true,
   "bibliofile": "biblio.bib",
   "cite_by": "apalike",
   "current_citInitial": 1,
   "eqLabelWithNumbers": true,
   "eqNumInitial": 1,
   "hotkeys": {
    "equation": "Ctrl-E",
    "itemize": "Ctrl-I"
   },
   "labels_anchors": false,
   "latex_user_defs": false,
   "report_style_numbering": false,
   "user_envs_cfg": false
  }
 },
 "nbformat": 4,
 "nbformat_minor": 4
}
