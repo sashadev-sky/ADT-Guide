{
 "cells": [
  {
   "cell_type": "markdown",
   "metadata": {
    "ExecuteTime": {
     "end_time": "2020-12-10T04:45:00.244291Z",
     "start_time": "2020-12-10T04:45:00.239859Z"
    },
    "hide_input": true
   },
   "source": [
    "# Implementing a Set with a nested List\n",
    "\n",
    "\n",
    "## Profiling tools\n",
    "\n",
    "1. As the results of the first call to `memit` reveal, a fresh IPython shell consumes approximately 40 MB of RAM:"
   ]
  },
  {
   "cell_type": "code",
   "execution_count": 26,
   "metadata": {
    "ExecuteTime": {
     "end_time": "2020-12-17T17:45:32.720515Z",
     "start_time": "2020-12-17T17:45:29.491679Z"
    },
    "execution": {
     "iopub.execute_input": "2020-12-14T01:07:25.953055Z",
     "iopub.status.busy": "2020-12-14T01:07:25.952800Z",
     "iopub.status.idle": "2020-12-14T01:07:28.775101Z",
     "shell.execute_reply": "2020-12-14T01:07:28.774290Z",
     "shell.execute_reply.started": "2020-12-14T01:07:25.953028Z"
    },
    "init_cell": true,
    "run_control": {
     "marked": false
    },
    "scrolled": true,
    "tags": [
     "memory_profiler"
    ]
   },
   "outputs": [
    {
     "name": "stdout",
     "output_type": "stream",
     "text": [
      "peak memory: 179.06 MiB, increment: 0.18 MiB\n"
     ]
    }
   ],
   "source": [
    "%reload_ext memory_profiler\n",
    "%memit"
   ]
  },
  {
   "cell_type": "markdown",
   "metadata": {
    "ExecuteTime": {
     "end_time": "2020-12-10T05:01:52.934927Z",
     "start_time": "2020-12-10T05:01:52.931615Z"
    },
    "init_cell": true,
    "run_control": {
     "marked": false
    },
    "tags": [
     "memory_profiler"
    ]
   },
   "source": [
    "2. Import modules into main program:"
   ]
  },
  {
   "cell_type": "code",
   "execution_count": 27,
   "metadata": {
    "ExecuteTime": {
     "end_time": "2020-12-17T17:45:32.727107Z",
     "start_time": "2020-12-17T17:45:32.723578Z"
    },
    "execution": {
     "iopub.execute_input": "2020-12-14T01:07:28.777225Z",
     "iopub.status.busy": "2020-12-14T01:07:28.776956Z",
     "iopub.status.idle": "2020-12-14T01:07:28.890487Z",
     "shell.execute_reply": "2020-12-14T01:07:28.889675Z",
     "shell.execute_reply.started": "2020-12-14T01:07:28.777194Z"
    },
    "init_cell": true,
    "run_control": {
     "marked": false
    },
    "tags": [
     "memory_profiler"
    ]
   },
   "outputs": [],
   "source": [
    "import ipython_memory_usage.ipython_memory_usage as imu\n",
    "import memory_profiler\n",
    "import time\n",
    "import timeit"
   ]
  },
  {
   "cell_type": "markdown",
   "metadata": {},
   "source": [
    "3. Notice how it's difficult to have certain outputs standout in the sea of outputs, notes, etc.?"
   ]
  },
  {
   "cell_type": "code",
   "execution_count": 28,
   "metadata": {
    "ExecuteTime": {
     "end_time": "2020-12-17T17:45:32.738128Z",
     "start_time": "2020-12-17T17:45:32.730647Z"
    },
    "execution": {
     "iopub.execute_input": "2020-12-14T01:07:28.893216Z",
     "iopub.status.busy": "2020-12-14T01:07:28.892947Z",
     "iopub.status.idle": "2020-12-14T01:07:28.908526Z",
     "shell.execute_reply": "2020-12-14T01:07:28.907361Z",
     "shell.execute_reply.started": "2020-12-14T01:07:28.893184Z"
    },
    "init_cell": true
   },
   "outputs": [
    {
     "data": {
      "text/markdown": [
       "**When there's a lot of noise, we can bold our output by including markdown in it**"
      ],
      "text/plain": [
       "<IPython.core.display.Markdown object>"
      ]
     },
     "metadata": {},
     "output_type": "display_data"
    },
    {
     "data": {
      "text/markdown": [
       "<span style='color:blue'>**We extended further to add color support. Bold... and blue...**</span>"
      ],
      "text/plain": [
       "<IPython.core.display.Markdown object>"
      ]
     },
     "metadata": {},
     "output_type": "display_data"
    }
   ],
   "source": [
    "from IPython.display import Markdown, display\n",
    "def printmd(string):\n",
    "    display(Markdown(string))\n",
    "\n",
    "printmd(\"**When there's a lot of noise, we can bold our output by including markdown in it**\")\n",
    "\n",
    "def printmd(string, color=None):\n",
    "    colorstr = \"<span style='color:{}'>{}</span>\".format(color, string)\n",
    "    display(Markdown(colorstr))\n",
    "\n",
    "printmd(\"**We extended further to add color support. Bold... and blue...**\", color=\"blue\")"
   ]
  },
  {
   "cell_type": "markdown",
   "metadata": {},
   "source": [
    "## DynamicArraySet\n",
    "I initially implemented it as 1-D list of integers, then augmented to a 2-D list of lists containing integers, as described in the \"Set\" section of the `README.md`.\n",
    "\n",
    "The list mimics a naive implementation of a **dynamic array** for educational purposes, providing **dynamic memory allocation**, **traversal**, **insertion** and **removal**. In reality a Python list is already a dynamic array, just like\n",
    "    the Ruby `Array`, as opposed to a static array like in Java.\n",
    "    \n",
    "**This implementation limits the valid set of contained elements to integers**, as the integers are used to compute an index into an array of **buckets** (sub-arrays). Bucket lookup is 0(1), then an 0(n) scan finds the correct element in the bucket."
   ]
  },
  {
   "cell_type": "code",
   "execution_count": 29,
   "metadata": {
    "ExecuteTime": {
     "end_time": "2020-12-17T17:45:32.744053Z",
     "start_time": "2020-12-17T17:45:32.741608Z"
    },
    "code_folding": [],
    "execution": {
     "iopub.execute_input": "2020-12-16T03:59:09.723403Z",
     "iopub.status.busy": "2020-12-16T03:59:09.723124Z",
     "iopub.status.idle": "2020-12-16T03:59:09.726951Z",
     "shell.execute_reply": "2020-12-16T03:59:09.725942Z",
     "shell.execute_reply.started": "2020-12-16T03:59:09.723374Z"
    },
    "init_cell": true
   },
   "outputs": [],
   "source": [
    "class DynamicArraySet:\n",
    "    \"\"\"Alternate array-based Set implemented with a 2-D list.\"\"\" "
   ]
  },
  {
   "cell_type": "markdown",
   "metadata": {},
   "source": [
    "####  `__init__`\n",
    "We use a **list comprehension** when assigning the strcture: `[[] for _ in range(size)]`. \n",
    "**This is the appropriate way to create a nested list.**\n",
    "\n",
    "Creating it using `[obj] * size` is a **common pitfall**. The resulting list contains `size` *references* to the\n",
    "same object, not copies of it, meaning trying to mutate the `obj` at a specific index would update it throughout the entire list instead. To avoid this behavior, **only do this if `obj` is immutable**. For ex., If we were to preallocate the inner list, we could do: \n",
    "\n",
    "`[[None for _ in range(size)] for _ in range(size)]` or `[[None] * size] for _ in range(size)]` \n",
    "\n",
    "because `None` is immutable. \n",
    "\n",
    "**Better yet, just use the comprehension throughout**"
   ]
  },
  {
   "cell_type": "code",
   "execution_count": 30,
   "metadata": {
    "ExecuteTime": {
     "end_time": "2020-12-17T17:45:32.751330Z",
     "start_time": "2020-12-17T17:45:32.746478Z"
    },
    "code_folding": [],
    "execution": {
     "iopub.execute_input": "2020-12-16T03:59:11.455651Z",
     "iopub.status.busy": "2020-12-16T03:59:11.455363Z",
     "iopub.status.idle": "2020-12-16T03:59:11.460740Z",
     "shell.execute_reply": "2020-12-16T03:59:11.459724Z",
     "shell.execute_reply.started": "2020-12-16T03:59:11.455620Z"
    },
    "init_cell": true,
    "run_control": {
     "marked": false
    }
   },
   "outputs": [],
   "source": [
    "class DynamicArraySet(DynamicArraySet):\n",
    "    def __init__(self, size: int = 4) -> None:\n",
    "        \"\"\"Constructs a new DynamicArraySetInstance.\n",
    "\n",
    "        :param int size: The initial set size; can be thought of as the number\n",
    "                         of buckets / sub-lists / rows / rank / space in memory.\n",
    "                         Defaults to 4\n",
    "        :return: None\n",
    "        \"\"\"\n",
    "        self.n = 0\n",
    "\n",
    "        if size < 0:\n",
    "            raise ValueError(\"size should be a positive integer\")\n",
    "\n",
    "        self.store = [[] for _ in range(size)]"
   ]
  },
  {
   "cell_type": "markdown",
   "metadata": {},
   "source": [
    "#### MutableSet ABC\n",
    "\n",
    "The remainder of our magic methods are defined below with docstrings. According to Python's `MutableSet` ABC, in order for our class to provide a `MutableSet` interface it needs to define implementations for the following methods:\n",
    "    \n",
    "   1. **`__contains__`**: defines how we perform a membership test when using the `in` operator\n",
    "\n",
    "   2. **`__iter__`**: defines how we iterate when using `for`\n",
    "\n",
    "   3. **`__len__`**: defines length when we use `len`\n",
    "\n",
    "   4. **`__add__`** (`add`) defines how we add an element\n",
    "\n",
    "   5. **`__discard__`** (`discard`) defines how we remove an element. Should not raise an exception if the element is absent\n",
    "\n",
    "Then if we subclassed `MutableSet`, it would provide generic implementations of all the other methods that support a container API.\n",
    "\n",
    "We're not going to be subclassinig `MutableSet` because this class only serves to demonstrate concepts, it isn't intended to be robust or used for production. The methods identified above, though, are a reminder why `insert`, `include?` and `delete` is our minimal Set API as defined in the README.\n",
    "\n",
    "Additionally, we implement:\n",
    "   1. **`__repr__`**: the official representation of our class\n",
    "   2. **`__str__`**: output of `print` ing our class"
   ]
  },
  {
   "cell_type": "code",
   "execution_count": 31,
   "metadata": {
    "ExecuteTime": {
     "end_time": "2020-12-17T17:45:32.760874Z",
     "start_time": "2020-12-17T17:45:32.754022Z"
    },
    "code_folding": [
     3,
     7,
     17,
     21,
     25,
     30
    ],
    "execution": {
     "iopub.execute_input": "2020-12-14T01:23:05.983110Z",
     "iopub.status.busy": "2020-12-14T01:23:05.982868Z",
     "iopub.status.idle": "2020-12-14T01:23:05.989855Z",
     "shell.execute_reply": "2020-12-14T01:23:05.989032Z",
     "shell.execute_reply.started": "2020-12-14T01:23:05.983083Z"
    },
    "init_cell": true,
    "run_control": {
     "marked": false
    }
   },
   "outputs": [],
   "source": [
    "class DynamicArraySet(DynamicArraySet):\n",
    "    \n",
    "    @property\n",
    "    def size(self):\n",
    "        \"\"\"Readonly. The number of buckets.\"\"\"\n",
    "        return len(self)\n",
    "\n",
    "    def contains(self, value: int) -> bool:\n",
    "        \"\"\"\n",
    "        Check if the passed value exists in the set.\n",
    "        \"\"\"\n",
    "        if self.n == 0 or not 0 <= value % self.size <= self.size - 1:\n",
    "            return False\n",
    "        return value in self.store[value % self.size]\n",
    "\n",
    "    __contains__ = contains\n",
    "\n",
    "    def __iter__(self) -> iter:\n",
    "        \"\"\"Makes our class iterable, ie. allows `[sub_list for sub_list in self]`\"\"\"\n",
    "        return iter(self.store)\n",
    "    \n",
    "    def __len__(self) -> int:\n",
    "        \"\"\"Implements `len` on our class, allows `len(self)`\"\"\"\n",
    "        return len(self.store)\n",
    "\n",
    "    def __repr__(self) -> str:\n",
    "        \"\"\"\n",
    "        The official representation of this class, acccessed by `repr(self)`.\n",
    "        The output matches the `__repr__` of Python's built-in `set`\n",
    "        \"\"\"\n",
    "        comp = [str(e) for _ in self for e in _ if e is not None]\n",
    "        return f'{{{\", \".join(comp)}}}'\n",
    "    \n",
    "    def __str__(self) -> str:\n",
    "        \"\"\"Pretty print class representation, accessed by `print(self)`\"\"\"\n",
    "        return f'{self.__class__.__name__}(size: {self.size}, count: {self.n}, store: {self.store})'"
   ]
  },
  {
   "cell_type": "markdown",
   "metadata": {},
   "source": [
    "### `add`\n",
    "Add the value in the first empty space in the underlying array or append it if there are no empty spaces and resize when free slots run low. This is modeled after the probing technique **open addressing**."
   ]
  },
  {
   "cell_type": "code",
   "execution_count": 32,
   "metadata": {
    "ExecuteTime": {
     "end_time": "2020-12-17T17:45:32.769041Z",
     "start_time": "2020-12-17T17:45:32.763676Z"
    },
    "execution": {
     "iopub.execute_input": "2020-12-14T01:07:28.935818Z",
     "iopub.status.busy": "2020-12-14T01:07:28.935408Z",
     "iopub.status.idle": "2020-12-14T01:07:28.941791Z",
     "shell.execute_reply": "2020-12-14T01:07:28.940943Z",
     "shell.execute_reply.started": "2020-12-14T01:07:28.935768Z"
    },
    "init_cell": true
   },
   "outputs": [],
   "source": [
    "class DynamicArraySet(DynamicArraySet):\n",
    "    def add(self, value: int) -> bool:\n",
    "        \"\"\"Add the value to the set if it does not already exist in the set\"\"\"\n",
    "        if value not in self:\n",
    "            sub_list = self.store[value % self.size]\n",
    "            for idx, el in enumerate(sub_list):\n",
    "                if el is None:\n",
    "                    sub_list[idx] = value\n",
    "                    self.n += 1\n",
    "                    return True\n",
    "\n",
    "            sub_list.append(value)\n",
    "            self.n += 1\n",
    "\n",
    "            if self.size < self.n:\n",
    "                self._resize()\n",
    "\n",
    "            return True\n",
    "        return False"
   ]
  },
  {
   "cell_type": "markdown",
   "metadata": {},
   "source": [
    "### `discard`\n",
    "In reality, the value would not actually get deleted, but set to None. This dereferences it and the garbage collector will come around later to deallocate it."
   ]
  },
  {
   "cell_type": "code",
   "execution_count": 33,
   "metadata": {
    "ExecuteTime": {
     "end_time": "2020-12-17T17:45:32.777621Z",
     "start_time": "2020-12-17T17:45:32.773656Z"
    },
    "execution": {
     "iopub.execute_input": "2020-12-16T03:59:40.354334Z",
     "iopub.status.busy": "2020-12-16T03:59:40.354049Z",
     "iopub.status.idle": "2020-12-16T03:59:40.360096Z",
     "shell.execute_reply": "2020-12-16T03:59:40.358796Z",
     "shell.execute_reply.started": "2020-12-16T03:59:40.354303Z"
    },
    "init_cell": true
   },
   "outputs": [],
   "source": [
    "class DynamicArraySet(DynamicArraySet):\n",
    "\n",
    "    def discard(self, value: int) -> bool:\n",
    "        \"\"\"Delete the value from the set if it exists\"\"\"\n",
    "        if value in self:\n",
    "            sub_list = self.store[value % self.size]\n",
    "            for idx, el in enumerate(sub_list):\n",
    "                if el == value:\n",
    "                    del sub_list[idx]\n",
    "                    self.n -= 1\n",
    "                    return True\n",
    "        return False"
   ]
  },
  {
   "cell_type": "markdown",
   "metadata": {
    "lines_to_next_cell": 0
   },
   "source": [
    "###  `_resize`\n",
    "\n",
    "This method is meant to grow the set if there is not enough free space or shrink it if there is too much\n",
    "space. We have only implemented growth, which is sufficient for this learning example.\n",
    "\n",
    "**Steps:**\n",
    "\n",
    "When a list of size `N` is first appended to, Python must:\n",
    "\n",
    "1. Create a new list that is big enough to hold the original `N` items\n",
    "   in addition to the extra one that is being appended.\n",
    "\n",
    "2. Allocate `M` items, where `M` > `N`, in order to provide extra headroom\n",
    "   for future appends\n",
    "\n",
    "3. Copy the data from the old list to the new list\n",
    "\n",
    "4. Destroy the old list\n",
    "\n",
    " The list allocation equation used below is the one used currently by Python:\n",
    "        M = (N >> 3) + (3 if N < 9 else 6)\n",
    "\n",
    "        N  0  1-4  5-8  9-16  17-25  26-35  36-46  ...  991-1120\n",
    "        --------------------------------------------------------\n",
    "        M  0  4    8    16    25     35     46     ...  1120\n",
    "        \n",
    "**entropy**: the minimum number of bits required, on average, to store its outcomes."
   ]
  },
  {
   "cell_type": "code",
   "execution_count": 34,
   "metadata": {
    "ExecuteTime": {
     "end_time": "2020-12-17T17:45:32.786111Z",
     "start_time": "2020-12-17T17:45:32.781759Z"
    },
    "execution": {
     "iopub.execute_input": "2020-12-14T01:07:28.953672Z",
     "iopub.status.busy": "2020-12-14T01:07:28.953331Z",
     "iopub.status.idle": "2020-12-14T01:07:28.959468Z",
     "shell.execute_reply": "2020-12-14T01:07:28.958707Z",
     "shell.execute_reply.started": "2020-12-14T01:07:28.953635Z"
    },
    "init_cell": true
   },
   "outputs": [],
   "source": [
    "class DynamicArraySet(DynamicArraySet):\n",
    "\n",
    "    def _resize(self):\n",
    "        \"\"\"Resize the underlying array\"\"\"\n",
    "        flat_list = [e for sl in self for e in sl if e is not None]\n",
    "        alloc_memory = int((self.n >> 3) + (3 if self.n < 9 else 6))\n",
    "\n",
    "        self.store = [[] for _ in range(self.size + alloc_memory + 1)]\n",
    "        self.n = 0\n",
    "        for el in flat_list:\n",
    "            self.add(el)"
   ]
  },
  {
   "cell_type": "markdown",
   "metadata": {},
   "source": [
    "Include some standard mathematical operations computed with sets:\n",
    "1. **`difference`**\n",
    "2. **`intersection`**\n",
    "    - Defining `__and__` allows using `&` as an alias for `intersection`\n",
    "3. **`union`**\n",
    "    - Defining `__or__` allows using `|` as an alias for `union`"
   ]
  },
  {
   "cell_type": "code",
   "execution_count": 35,
   "metadata": {
    "ExecuteTime": {
     "end_time": "2020-12-17T17:45:32.795450Z",
     "start_time": "2020-12-17T17:45:32.788864Z"
    },
    "code_folding": [],
    "execution": {
     "iopub.execute_input": "2020-12-16T03:59:16.424743Z",
     "iopub.status.busy": "2020-12-16T03:59:16.424089Z",
     "iopub.status.idle": "2020-12-16T03:59:16.431244Z",
     "shell.execute_reply": "2020-12-16T03:59:16.430304Z",
     "shell.execute_reply.started": "2020-12-16T03:59:16.424707Z"
    },
    "init_cell": true,
    "run_control": {
     "marked": false
    },
    "scrolled": true
   },
   "outputs": [],
   "source": [
    "class DynamicArraySet(DynamicArraySet):\n",
    "    \n",
    "    def difference(self, s: iter) -> list:\n",
    "        \"\"\"Return a list of elements present on one set, but not on the other\"\"\"\n",
    "        return [e for _ in self for e in _ if e is not None and e not in s]\n",
    "\n",
    "    def intersection(self, s2: iter) -> list:\n",
    "        \"\"\"Returns the set of elements that are common to both sets\"\"\"\n",
    "        return [e for _ in self for e in _ if e is not None and e in s2]\n",
    "    \n",
    "    __and__ = intersection\n",
    "\n",
    "    def union(self, s2: iter) -> list:\n",
    "        \"\"\"Returns the set of all distinct elements present in both sets\"\"\"\n",
    "        flat_l = [e for _ in self for e in _ if e is not None]\n",
    "        other_list = [e for e in s2 if e not in flat_l]\n",
    "        flat_l.extend(other_list)\n",
    "        return flat_l\n",
    "    \n",
    "    __or__ = union"
   ]
  },
  {
   "cell_type": "markdown",
   "metadata": {},
   "source": [
    "## Profiling\n",
    "\n",
    "### Memory\n",
    "\n",
    "`ipython_memory_usage` reports memory usage deltas for every command you type. This tool helps you to figure out which commands use a lot of RAM and take a long time to run, this is very useful if you're working with large matrices. In addition it reports the peak memory usage whilst a command is running which might be higher (due to temporary objects) than the final RAM usage. Built on `memory_profiler`."
   ]
  },
  {
   "cell_type": "code",
   "execution_count": 36,
   "metadata": {
    "ExecuteTime": {
     "end_time": "2020-12-17T17:45:32.906904Z",
     "start_time": "2020-12-17T17:45:32.798296Z"
    },
    "execution": {
     "iopub.execute_input": "2020-12-14T01:07:28.971881Z",
     "iopub.status.busy": "2020-12-14T01:07:28.971580Z",
     "iopub.status.idle": "2020-12-14T01:07:29.082227Z",
     "shell.execute_reply": "2020-12-14T01:07:29.081296Z",
     "shell.execute_reply.started": "2020-12-14T01:07:28.971855Z"
    },
    "init_cell": true,
    "run_control": {
     "marked": false
    },
    "scrolled": true,
    "tags": [
     "memory_profiler"
    ]
   },
   "outputs": [
    {
     "name": "stdout",
     "output_type": "stream",
     "text": [
      "In [36] used -28.1758 MiB RAM in 5953.72s, peaked 28.18 MiB above current, total RAM usage 179.45 MiB\n"
     ]
    }
   ],
   "source": [
    "imu.start_watching_memory()"
   ]
  },
  {
   "cell_type": "markdown",
   "metadata": {},
   "source": [
    "<div class=\"alert alert-block alert-info\">\n",
    "    <p><b>MiB</b><span> - A mebibyte contains $1024^{2}$ bytes. 1 Mebibytes to Bytes = 1048576</span></p><br>\n",
    "    <code>memory_profiler</code> uses MiB - an output of <code>0 MiB RAM</code> indicates our data structure used an insignificant (to a profiler) amount of memory that could be better represented in bytes.\n",
    "    Same goes with getting <code>0s</code> instead of using ms.\n",
    " <pre>\n",
    " s1 = DynamicArraySet()\n",
    " for i in range(100):\n",
    "     s1.add(i * 4)\n",
    " </pre>\n",
    "</div>"
   ]
  },
  {
   "cell_type": "code",
   "execution_count": 37,
   "metadata": {
    "ExecuteTime": {
     "end_time": "2020-12-17T17:45:33.232153Z",
     "start_time": "2020-12-17T17:45:32.908802Z"
    },
    "code_folding": [],
    "execution": {
     "iopub.execute_input": "2020-12-14T01:07:29.084146Z",
     "iopub.status.busy": "2020-12-14T01:07:29.083815Z",
     "iopub.status.idle": "2020-12-14T01:07:29.407151Z",
     "shell.execute_reply": "2020-12-14T01:07:29.406127Z",
     "shell.execute_reply.started": "2020-12-14T01:07:29.084113Z"
    },
    "hideCode": true,
    "hide_input": true,
    "init_cell": true,
    "jupyter": {
     "source_hidden": true
    },
    "run_control": {
     "marked": false
    },
    "scrolled": true,
    "tags": [
     "memory_profiler"
    ]
   },
   "outputs": [
    {
     "data": {
      "text/markdown": [
       "<span style='color:blue'>RAM at start: 179.6MiB</span>"
      ],
      "text/plain": [
       "<IPython.core.display.Markdown object>"
      ]
     },
     "metadata": {},
     "output_type": "display_data"
    },
    {
     "data": {
      "text/markdown": [
       "<span style='color:blue'>Loading: 100 elements</span>"
      ],
      "text/plain": [
       "<IPython.core.display.Markdown object>"
      ]
     },
     "metadata": {},
     "output_type": "display_data"
    },
    {
     "data": {
      "text/markdown": [
       "<span style='color:blue'>RAM after creating list: 179.6MiB, took 0.0s</span>"
      ],
      "text/plain": [
       "<IPython.core.display.Markdown object>"
      ]
     },
     "metadata": {},
     "output_type": "display_data"
    },
    {
     "name": "stdout",
     "output_type": "stream",
     "text": [
      "In [37] used 0.1094 MiB RAM in 0.32s, peaked 0.00 MiB above current, total RAM usage 179.56 MiB\n"
     ]
    }
   ],
   "source": [
    "printmd(f'RAM at start: {memory_profiler.memory_usage()[0]:0.1f}MiB', color=\"blue\")\n",
    "t1 = time.time()\n",
    "\n",
    "s1 = DynamicArraySet()\n",
    "for i in range(100):\n",
    "    s1.add(i * 4)\n",
    "\n",
    "printmd(f'Loading: {s1.n} elements', color=\"blue\")\n",
    "t2 = time.time()\n",
    "\n",
    "printmd(f'RAM after creating list: {memory_profiler.memory_usage()[0]:0.1f}MiB, took {t2 - t1:0.1f}s', color=\"blue\")"
   ]
  },
  {
   "cell_type": "markdown",
   "metadata": {},
   "source": [
    "<div class=\"alert alert-block alert-info\">\n",
    "    With a larger set of elements, MiB and s are more useful.\n",
    "  <pre>\n",
    "  s2 = DynamicArraySet()\n",
    "  for i in range(1000000):\n",
    "      s2.add(i * 4)\n",
    "  </pre>\n",
    "</div>"
   ]
  },
  {
   "cell_type": "code",
   "execution_count": 49,
   "metadata": {
    "ExecuteTime": {
     "end_time": "2020-12-17T18:45:20.550764Z",
     "start_time": "2020-12-17T18:44:48.076009Z"
    },
    "code_folding": [],
    "execution": {
     "iopub.execute_input": "2020-12-14T01:07:29.409245Z",
     "iopub.status.busy": "2020-12-14T01:07:29.408823Z",
     "iopub.status.idle": "2020-12-14T01:08:00.744085Z",
     "shell.execute_reply": "2020-12-14T01:08:00.742947Z",
     "shell.execute_reply.started": "2020-12-14T01:07:29.409204Z"
    },
    "header": "hi",
    "hideCode": true,
    "hide_input": true,
    "init_cell": true,
    "jupyter": {
     "source_hidden": true
    },
    "scrolled": true,
    "tags": [
     "memory_profiler"
    ]
   },
   "outputs": [
    {
     "data": {
      "text/markdown": [
       "<span style='color:blue'>RAM at start: 15.5MiB</span>"
      ],
      "text/plain": [
       "<IPython.core.display.Markdown object>"
      ]
     },
     "metadata": {},
     "output_type": "display_data"
    },
    {
     "data": {
      "text/markdown": [
       "<span style='color:blue'>Loading: 1000000 elements</span>"
      ],
      "text/plain": [
       "<IPython.core.display.Markdown object>"
      ]
     },
     "metadata": {},
     "output_type": "display_data"
    },
    {
     "data": {
      "text/markdown": [
       "<span style='color:blue'>RAM after creating list: 193.9MiB, took 32.3s</span>"
      ],
      "text/plain": [
       "<IPython.core.display.Markdown object>"
      ]
     },
     "metadata": {},
     "output_type": "display_data"
    },
    {
     "name": "stdout",
     "output_type": "stream",
     "text": [
      "/usr/local/lib/python3.9/site-packages/ipython_memory_usage/ipython_memory_usage.py SOMETHING WEIRD HAPPENED AND THIS RAN FOR TOO LONG, THIS THREAD IS KILLING ITSELF\n",
      "/usr/local/lib/python3.9/site-packages/ipython_memory_usage/ipython_memory_usage.py SOMETHING WEIRD HAPPENED AND THIS RAN FOR TOO LONG, THIS THREAD IS KILLING ITSELF\n",
      "/usr/local/lib/python3.9/site-packages/ipython_memory_usage/ipython_memory_usage.py SOMETHING WEIRD HAPPENED AND THIS RAN FOR TOO LONG, THIS THREAD IS KILLING ITSELF\n"
     ]
    }
   ],
   "source": [
    "printmd(f'RAM at start: {memory_profiler.memory_usage()[0]:0.1f}MiB', color=\"blue\")\n",
    "t1 = time.time()\n",
    "\n",
    "s2 = DynamicArraySet()\n",
    "for i in range(1000000):\n",
    "    s2.add(i * 4)\n",
    "\n",
    "printmd(f'Loading: {s2.n} elements', color=\"blue\")\n",
    "t2 = time.time()\n",
    "\n",
    "printmd(f'RAM after creating list: {memory_profiler.memory_usage()[0]:0.1f}MiB, took {t2 - t1:0.1f}s', color=\"blue\")"
   ]
  },
  {
   "cell_type": "code",
   "execution_count": 39,
   "metadata": {
    "ExecuteTime": {
     "end_time": "2020-12-17T17:50:39.770887Z",
     "start_time": "2020-12-17T17:50:39.766734Z"
    },
    "execution": {
     "iopub.execute_input": "2020-12-14T01:08:00.745785Z",
     "iopub.status.busy": "2020-12-14T01:08:00.745411Z",
     "iopub.status.idle": "2020-12-14T01:08:00.750071Z",
     "shell.execute_reply": "2020-12-14T01:08:00.749120Z",
     "shell.execute_reply.started": "2020-12-14T01:08:00.745748Z"
    },
    "hide_input": false,
    "init_cell": true,
    "jupyter": {
     "source_hidden": true
    },
    "run_control": {
     "marked": false
    },
    "tags": [
     "memory_profiler"
    ]
   },
   "outputs": [],
   "source": [
    "imu.stop_watching_memory()"
   ]
  },
  {
   "cell_type": "markdown",
   "metadata": {},
   "source": [
    "Python's magic `%%capture` command runs the cell, capturing `stdout`, `stderr`, and `IPython`’s rich `display()` calls. Save it to a variable to have reference to it for quickly displaying the output another time. Otherwise, the captured output will be discarded. I used it to prevent my `print` from outputting because the result is too long and cannot be hidden in static environments, such as on Github. \n",
    "\n",
    "Below, we can later access the contents of the captured variable by invoking them with `()`. For example, to show the print statement that was captured as `cap_s`, we would just execute `cap_s()`"
   ]
  },
  {
   "cell_type": "code",
   "execution_count": 40,
   "metadata": {
    "ExecuteTime": {
     "end_time": "2020-12-17T17:50:39.794890Z",
     "start_time": "2020-12-17T17:50:39.773971Z"
    },
    "code_folding": [],
    "execution": {
     "iopub.execute_input": "2020-12-14T01:08:00.751828Z",
     "iopub.status.busy": "2020-12-14T01:08:00.751569Z",
     "iopub.status.idle": "2020-12-14T01:08:00.756801Z",
     "shell.execute_reply": "2020-12-14T01:08:00.755802Z",
     "shell.execute_reply.started": "2020-12-14T01:08:00.751798Z"
    },
    "init_cell": true
   },
   "outputs": [
    {
     "ename": "TypeError",
     "evalue": "'str' object is not callable",
     "output_type": "error",
     "traceback": [
      "\u001b[0;31m---------------------------------------------------------------------------\u001b[0m",
      "\u001b[0;31mTypeError\u001b[0m                                 Traceback (most recent call last)",
      "\u001b[0;32m<ipython-input-40-32f66906d256>\u001b[0m in \u001b[0;36m<module>\u001b[0;34m\u001b[0m\n\u001b[0;32m----> 1\u001b[0;31m \u001b[0mprint\u001b[0m\u001b[0;34m(\u001b[0m\u001b[0ms1\u001b[0m\u001b[0;34m,\u001b[0m \u001b[0mrepr\u001b[0m\u001b[0;34m(\u001b[0m\u001b[0ms1\u001b[0m\u001b[0;34m)\u001b[0m\u001b[0;34m,\u001b[0m \u001b[0msep\u001b[0m\u001b[0;34m=\u001b[0m\u001b[0;34m'\\n\\n'\u001b[0m\u001b[0;34m)\u001b[0m\u001b[0;34m\u001b[0m\u001b[0;34m\u001b[0m\u001b[0m\n\u001b[0m",
      "\u001b[0;32m<ipython-input-31-658ce2f705b6>\u001b[0m in \u001b[0;36m__repr__\u001b[0;34m(self)\u001b[0m\n\u001b[1;32m     29\u001b[0m         \u001b[0mThe\u001b[0m \u001b[0moutput\u001b[0m \u001b[0mmatches\u001b[0m \u001b[0mthe\u001b[0m\u001b[0;31m \u001b[0m\u001b[0;31m`\u001b[0m\u001b[0m__repr__\u001b[0m\u001b[0;31m`\u001b[0m \u001b[0mof\u001b[0m \u001b[0mPython\u001b[0m\u001b[0;31m'\u001b[0m\u001b[0ms\u001b[0m \u001b[0mbuilt\u001b[0m\u001b[0;34m-\u001b[0m\u001b[0;32min\u001b[0m\u001b[0;31m \u001b[0m\u001b[0;31m`\u001b[0m\u001b[0mset\u001b[0m\u001b[0;31m`\u001b[0m\u001b[0;34m\u001b[0m\u001b[0;34m\u001b[0m\u001b[0m\n\u001b[1;32m     30\u001b[0m         \"\"\"\n\u001b[0;32m---> 31\u001b[0;31m         \u001b[0mcomp\u001b[0m \u001b[0;34m=\u001b[0m \u001b[0;34m[\u001b[0m\u001b[0mstr\u001b[0m\u001b[0;34m(\u001b[0m\u001b[0me\u001b[0m\u001b[0;34m)\u001b[0m \u001b[0;32mfor\u001b[0m \u001b[0m_\u001b[0m \u001b[0;32min\u001b[0m \u001b[0mself\u001b[0m \u001b[0;32mfor\u001b[0m \u001b[0me\u001b[0m \u001b[0;32min\u001b[0m \u001b[0m_\u001b[0m \u001b[0;32mif\u001b[0m \u001b[0me\u001b[0m \u001b[0;32mis\u001b[0m \u001b[0;32mnot\u001b[0m \u001b[0;32mNone\u001b[0m\u001b[0;34m]\u001b[0m\u001b[0;34m\u001b[0m\u001b[0;34m\u001b[0m\u001b[0m\n\u001b[0m\u001b[1;32m     32\u001b[0m         \u001b[0;32mreturn\u001b[0m \u001b[0;34mf'{{{\", \".join(comp)}}}'\u001b[0m\u001b[0;34m\u001b[0m\u001b[0;34m\u001b[0m\u001b[0m\n\u001b[1;32m     33\u001b[0m \u001b[0;34m\u001b[0m\u001b[0m\n",
      "\u001b[0;32m<ipython-input-31-658ce2f705b6>\u001b[0m in \u001b[0;36m<listcomp>\u001b[0;34m(.0)\u001b[0m\n\u001b[1;32m     29\u001b[0m         \u001b[0mThe\u001b[0m \u001b[0moutput\u001b[0m \u001b[0mmatches\u001b[0m \u001b[0mthe\u001b[0m\u001b[0;31m \u001b[0m\u001b[0;31m`\u001b[0m\u001b[0m__repr__\u001b[0m\u001b[0;31m`\u001b[0m \u001b[0mof\u001b[0m \u001b[0mPython\u001b[0m\u001b[0;31m'\u001b[0m\u001b[0ms\u001b[0m \u001b[0mbuilt\u001b[0m\u001b[0;34m-\u001b[0m\u001b[0;32min\u001b[0m\u001b[0;31m \u001b[0m\u001b[0;31m`\u001b[0m\u001b[0mset\u001b[0m\u001b[0;31m`\u001b[0m\u001b[0;34m\u001b[0m\u001b[0;34m\u001b[0m\u001b[0m\n\u001b[1;32m     30\u001b[0m         \"\"\"\n\u001b[0;32m---> 31\u001b[0;31m         \u001b[0mcomp\u001b[0m \u001b[0;34m=\u001b[0m \u001b[0;34m[\u001b[0m\u001b[0mstr\u001b[0m\u001b[0;34m(\u001b[0m\u001b[0me\u001b[0m\u001b[0;34m)\u001b[0m \u001b[0;32mfor\u001b[0m \u001b[0m_\u001b[0m \u001b[0;32min\u001b[0m \u001b[0mself\u001b[0m \u001b[0;32mfor\u001b[0m \u001b[0me\u001b[0m \u001b[0;32min\u001b[0m \u001b[0m_\u001b[0m \u001b[0;32mif\u001b[0m \u001b[0me\u001b[0m \u001b[0;32mis\u001b[0m \u001b[0;32mnot\u001b[0m \u001b[0;32mNone\u001b[0m\u001b[0;34m]\u001b[0m\u001b[0;34m\u001b[0m\u001b[0;34m\u001b[0m\u001b[0m\n\u001b[0m\u001b[1;32m     32\u001b[0m         \u001b[0;32mreturn\u001b[0m \u001b[0;34mf'{{{\", \".join(comp)}}}'\u001b[0m\u001b[0;34m\u001b[0m\u001b[0;34m\u001b[0m\u001b[0m\n\u001b[1;32m     33\u001b[0m \u001b[0;34m\u001b[0m\u001b[0m\n",
      "\u001b[0;31mTypeError\u001b[0m: 'str' object is not callable"
     ]
    }
   ],
   "source": [
    "%%capture cap_s\n",
    "print(s1, repr(s1), sep='\\n\\n')"
   ]
  },
  {
   "cell_type": "code",
   "execution_count": 41,
   "metadata": {
    "ExecuteTime": {
     "end_time": "2020-12-17T17:50:39.802351Z",
     "start_time": "2020-12-17T17:50:39.797604Z"
    },
    "execution": {
     "iopub.execute_input": "2020-12-14T01:08:00.758497Z",
     "iopub.status.busy": "2020-12-14T01:08:00.758106Z",
     "iopub.status.idle": "2020-12-14T01:08:00.762722Z",
     "shell.execute_reply": "2020-12-14T01:08:00.761973Z",
     "shell.execute_reply.started": "2020-12-14T01:08:00.758463Z"
    },
    "init_cell": true,
    "run_control": {
     "marked": false
    }
   },
   "outputs": [],
   "source": [
    "cap_s()"
   ]
  },
  {
   "cell_type": "code",
   "execution_count": 42,
   "metadata": {
    "ExecuteTime": {
     "end_time": "2020-12-17T17:50:40.167704Z",
     "start_time": "2020-12-17T17:50:39.805423Z"
    },
    "code_folding": [],
    "execution": {
     "iopub.execute_input": "2020-12-14T01:08:00.764324Z",
     "iopub.status.busy": "2020-12-14T01:08:00.764023Z",
     "iopub.status.idle": "2020-12-14T01:08:01.139025Z",
     "shell.execute_reply": "2020-12-14T01:08:01.138218Z",
     "shell.execute_reply.started": "2020-12-14T01:08:00.764283Z"
    },
    "hide_input": false,
    "init_cell": true,
    "run_control": {
     "marked": false
    }
   },
   "outputs": [],
   "source": [
    "%%capture cap_s2\n",
    "print(s2)"
   ]
  },
  {
   "cell_type": "markdown",
   "metadata": {},
   "source": [
    "## `in` membership test runs in constant time 0(1):"
   ]
  },
  {
   "cell_type": "code",
   "execution_count": 43,
   "metadata": {
    "ExecuteTime": {
     "end_time": "2020-12-17T17:50:40.209995Z",
     "start_time": "2020-12-17T17:50:40.169651Z"
    },
    "code_folding": [
     0
    ],
    "execution": {
     "iopub.execute_input": "2020-12-14T01:08:01.140582Z",
     "iopub.status.busy": "2020-12-14T01:08:01.140334Z",
     "iopub.status.idle": "2020-12-14T01:08:01.193054Z",
     "shell.execute_reply": "2020-12-14T01:08:01.192077Z",
     "shell.execute_reply.started": "2020-12-14T01:08:01.140552Z"
    },
    "hide_input": false,
    "init_cell": true,
    "scrolled": true,
    "tags": [
     "time_profiler"
    ]
   },
   "outputs": [
    {
     "data": {
      "text/markdown": [
       "<span style='color:blue'>Size of s1: 106, Count of elements: 100, Summed time to look up 15 is 0.0131s</span>"
      ],
      "text/plain": [
       "<IPython.core.display.Markdown object>"
      ]
     },
     "metadata": {},
     "output_type": "display_data"
    }
   ],
   "source": [
    "time_cost = sum(timeit.repeat(stmt=\"15 in s1\",\n",
    "                              setup=\"from __main__ import s1\",\n",
    "                              number=1,\n",
    "                              repeat=10000))\n",
    "printmd(f'Size of s1: {s1.size}, Count of elements: {s1.n}, Summed time to look up 15 is {time_cost:0.4f}s', color=\"blue\") "
   ]
  },
  {
   "cell_type": "code",
   "execution_count": 44,
   "metadata": {
    "ExecuteTime": {
     "end_time": "2020-12-17T17:50:40.253075Z",
     "start_time": "2020-12-17T17:50:40.211626Z"
    },
    "code_folding": [],
    "execution": {
     "iopub.execute_input": "2020-12-14T01:08:01.194728Z",
     "iopub.status.busy": "2020-12-14T01:08:01.194423Z",
     "iopub.status.idle": "2020-12-14T01:08:01.250074Z",
     "shell.execute_reply": "2020-12-14T01:08:01.249358Z",
     "shell.execute_reply.started": "2020-12-14T01:08:01.194697Z"
    },
    "init_cell": true,
    "run_control": {
     "marked": false
    },
    "tags": [
     "time_profiler"
    ]
   },
   "outputs": [
    {
     "data": {
      "text/markdown": [
       "<span style='color:blue'>Size of s2: 1087175, Count of elements: 1000000, Summed time to look up 15 is 0.0149s</span>"
      ],
      "text/plain": [
       "<IPython.core.display.Markdown object>"
      ]
     },
     "metadata": {},
     "output_type": "display_data"
    }
   ],
   "source": [
    "time_cost2 = sum(timeit.repeat(stmt=\"15 in s2\",\n",
    "                              setup=\"from __main__ import s2\",\n",
    "                              number=1,\n",
    "                              repeat=10000))\n",
    "printmd(f'Size of s2: {s2.size}, Count of elements: {s2.n}, Summed time to look up 15 is {time_cost2:0.4f}s', color=\"blue\")"
   ]
  },
  {
   "cell_type": "markdown",
   "metadata": {},
   "source": [
    "## DynamicHashSet\n",
    "\n",
    "We don't want to be limited to integers, so we subclass the `DynamicArraySet` to implement a more specific version that uses **hashing**. With this data type **we can now store keys of any immutable (hashable) type**."
   ]
  },
  {
   "cell_type": "code",
   "execution_count": 45,
   "metadata": {
    "ExecuteTime": {
     "end_time": "2020-12-17T17:50:40.260696Z",
     "start_time": "2020-12-17T17:50:40.254797Z"
    },
    "code_folding": [
     5,
     12,
     30
    ],
    "execution": {
     "iopub.execute_input": "2020-12-14T01:08:01.251627Z",
     "iopub.status.busy": "2020-12-14T01:08:01.251330Z",
     "iopub.status.idle": "2020-12-14T01:08:01.261020Z",
     "shell.execute_reply": "2020-12-14T01:08:01.260148Z",
     "shell.execute_reply.started": "2020-12-14T01:08:01.251597Z"
    },
    "init_cell": true
   },
   "outputs": [],
   "source": [
    "from typing import Hashable\n",
    "\n",
    "\n",
    "class DynamicHashSet(DynamicArraySet):\n",
    "\n",
    "    def contains(self, value: Hashable) -> bool:\n",
    "        if self.n == 0 or not 0 <= hash(value) % self.size <= self.size - 1:\n",
    "            return False\n",
    "        return value in self.store[hash(value) % self.size]\n",
    "\n",
    "    __contains__ = contains\n",
    "\n",
    "    def add(self, value: Hashable) -> bool:\n",
    "        if value not in self:\n",
    "            sub_list = self.store[hash(value) % self.size]\n",
    "            for idx, el in enumerate(sub_list):\n",
    "                if el is None:\n",
    "                    sub_list[idx] = value\n",
    "                    self.n += 1\n",
    "                    return True\n",
    "\n",
    "            sub_list.append(value)\n",
    "            self.n += 1\n",
    "\n",
    "            if self.size < self.n:\n",
    "                self._resize()\n",
    "\n",
    "            return True\n",
    "        return False\n",
    "\n",
    "    def discard(self, value: Hashable) -> bool:\n",
    "        if value in self:\n",
    "            sub_list = self.store[hash(value) % self.size]\n",
    "            for idx, el in enumerate(sub_list):\n",
    "                if el == value:\n",
    "                    del sub_list[idx]\n",
    "                    self.n -= 1\n",
    "                    return True\n",
    "        return False"
   ]
  },
  {
   "cell_type": "markdown",
   "metadata": {
    "hide_input": true
   },
   "source": [
    "<div class=\"alert alert-block alert-info\">\n",
    "We instantiate a <code>DynamicHashSet</code> instance now so we can see it's the same song and dance.\n",
    "  <pre>\n",
    "  str = 'Lorem ipsum dolor sit amet, consectetur adipiscing elit.'\n",
    "  word_list = str.split()\n",
    "  hs1 = DynamicHashSet()\n",
    "  for word in word_list:\n",
    "      hs1.add(word)\n",
    "      for char in word:\n",
    "          hs1.add(char)\n",
    "  </pre>\n",
    "</div>"
   ]
  },
  {
   "cell_type": "code",
   "execution_count": 46,
   "metadata": {
    "ExecuteTime": {
     "end_time": "2020-12-17T17:50:40.578130Z",
     "start_time": "2020-12-17T17:50:40.262557Z"
    },
    "code_folding": [],
    "execution": {
     "iopub.execute_input": "2020-12-14T01:08:01.262471Z",
     "iopub.status.busy": "2020-12-14T01:08:01.262083Z",
     "iopub.status.idle": "2020-12-14T01:08:01.583140Z",
     "shell.execute_reply": "2020-12-14T01:08:01.581936Z",
     "shell.execute_reply.started": "2020-12-14T01:08:01.262438Z"
    },
    "hideCode": true,
    "hidePrompt": false,
    "hide_input": true,
    "init_cell": true,
    "scrolled": true,
    "tags": [
     "memory_profiler"
    ]
   },
   "outputs": [
    {
     "data": {
      "text/markdown": [
       "<span style='color:blue'>RAM at start: 227.2MiB</span>"
      ],
      "text/plain": [
       "<IPython.core.display.Markdown object>"
      ]
     },
     "metadata": {},
     "output_type": "display_data"
    },
    {
     "data": {
      "text/markdown": [
       "<span style='color:blue'>Loading: 26 elements</span>"
      ],
      "text/plain": [
       "<IPython.core.display.Markdown object>"
      ]
     },
     "metadata": {},
     "output_type": "display_data"
    },
    {
     "data": {
      "text/markdown": [
       "<span style='color:blue'>RAM after creating list: 227.2MiB, took 0.0s</span>"
      ],
      "text/plain": [
       "<IPython.core.display.Markdown object>"
      ]
     },
     "metadata": {},
     "output_type": "display_data"
    },
    {
     "name": "stdout",
     "output_type": "stream",
     "text": [
      "In [46] used 4.0273 MiB RAM in 0.81s, peaked 0.00 MiB above current, total RAM usage 227.21 MiB\n"
     ]
    }
   ],
   "source": [
    "imu.start_watching_memory()\n",
    "printmd(f'RAM at start: {memory_profiler.memory_usage()[0]:0.1f}MiB', color=\"blue\")\n",
    "t1 = time.time()\n",
    "\n",
    "str = 'Lorem ipsum dolor sit amet, consectetur adipiscing elit.'\n",
    "word_list = str.split()\n",
    "hs1 = DynamicHashSet()\n",
    "for word in word_list:\n",
    "    hs1.add(word)\n",
    "    for char in word:\n",
    "        hs1.add(char)\n",
    "\n",
    "t2 = time.time()\n",
    "printmd(f'Loading: {hs1.n} elements', color=\"blue\")\n",
    "printmd(f'RAM after creating list: {memory_profiler.memory_usage()[0]:0.1f}MiB, took {t2 - t1:0.1f}s', color=\"blue\")\n",
    "\n"
   ]
  },
  {
   "cell_type": "code",
   "execution_count": 47,
   "metadata": {
    "ExecuteTime": {
     "end_time": "2020-12-17T17:50:40.582446Z",
     "start_time": "2020-12-17T17:50:40.579924Z"
    },
    "execution": {
     "iopub.execute_input": "2020-12-14T01:08:01.584897Z",
     "iopub.status.busy": "2020-12-14T01:08:01.584556Z",
     "iopub.status.idle": "2020-12-14T01:08:01.588909Z",
     "shell.execute_reply": "2020-12-14T01:08:01.587950Z",
     "shell.execute_reply.started": "2020-12-14T01:08:01.584864Z"
    },
    "hide_input": true,
    "init_cell": true,
    "tags": [
     "memory_profiler"
    ]
   },
   "outputs": [],
   "source": [
    "imu.stop_watching_memory()"
   ]
  },
  {
   "cell_type": "markdown",
   "metadata": {
    "hide_input": true
   },
   "source": [
    "<div class=\"alert alert-block alert-info\">\n",
    "    We can use the set computation methods we implemented on <code>DynamicArraySet</code> to check that the    results of the for loop were as expected.\n",
    "</div>"
   ]
  },
  {
   "cell_type": "code",
   "execution_count": 48,
   "metadata": {
    "ExecuteTime": {
     "end_time": "2020-12-17T17:50:40.595423Z",
     "start_time": "2020-12-17T17:50:40.588126Z"
    },
    "execution": {
     "iopub.execute_input": "2020-12-14T01:08:01.590222Z",
     "iopub.status.busy": "2020-12-14T01:08:01.589933Z",
     "iopub.status.idle": "2020-12-14T01:08:01.599257Z",
     "shell.execute_reply": "2020-12-14T01:08:01.598426Z",
     "shell.execute_reply.started": "2020-12-14T01:08:01.590195Z"
    },
    "init_cell": true,
    "scrolled": true
   },
   "outputs": [
    {
     "data": {
      "text/markdown": [
       "<span style='color:blue'>Elements in 'hs1' not in 'word_list': ['o', 'l', 'L', 't', 'i', 'a', 'g', 'n', 'p', 'd', 'u', 'r', ',', 'm', 's', 'c', '.', 'e']</span>"
      ],
      "text/plain": [
       "<IPython.core.display.Markdown object>"
      ]
     },
     "metadata": {},
     "output_type": "display_data"
    },
    {
     "data": {
      "text/markdown": [
       "<span style='color:blue'>Elements in 'word_list' not in 'hs1': set()</span>"
      ],
      "text/plain": [
       "<IPython.core.display.Markdown object>"
      ]
     },
     "metadata": {},
     "output_type": "display_data"
    },
    {
     "data": {
      "text/markdown": [
       "<span style='color:blue'>Count of unique words + unique chars in 'str': 26</span>"
      ],
      "text/plain": [
       "<IPython.core.display.Markdown object>"
      ]
     },
     "metadata": {},
     "output_type": "display_data"
    },
    {
     "data": {
      "text/markdown": [
       "<span style='color:blue'>Length of 'hs1': 26</span>"
      ],
      "text/plain": [
       "<IPython.core.display.Markdown object>"
      ]
     },
     "metadata": {},
     "output_type": "display_data"
    }
   ],
   "source": [
    "printmd(f'Elements in \\'hs1\\' not in \\'word_list\\': {hs1.difference(word_list)}', color=\"blue\")\n",
    "printmd(f'Elements in \\'word_list\\' not in \\'hs1\\': {set(word_list).difference([e for _ in hs1.store for e in _ if e is not None])}', color=\"blue\")\n",
    "printmd(f'Count of unique words + unique chars in \\'str\\': {len(set(word_list + [char for word in word_list for char in word if char]))}', color=\"blue\")\n",
    "printmd(f'Length of \\'hs1\\': {hs1.n}', color=\"blue\")"
   ]
  }
 ],
 "metadata": {
  "gist": {
   "data": {
    "description": "Untitled.ipynb",
    "public": false
   },
   "id": ""
  },
  "hide_input": false,
  "jupytext": {
   "formats": "ipynb,md"
  },
  "kernelspec": {
   "display_name": "Python 3",
   "language": "python",
   "name": "python3"
  },
  "language_info": {
   "codemirror_mode": {
    "name": "ipython",
    "version": 3
   },
   "file_extension": ".py",
   "mimetype": "text/x-python",
   "name": "python",
   "nbconvert_exporter": "python",
   "pygments_lexer": "ipython3",
   "version": "3.9.0"
  },
  "latex_envs": {
   "LaTeX_envs_menu_present": true,
   "autoclose": false,
   "autocomplete": true,
   "bibliofile": "biblio.bib",
   "cite_by": "apalike",
   "current_citInitial": 1,
   "eqLabelWithNumbers": true,
   "eqNumInitial": 1,
   "hotkeys": {
    "equation": "Ctrl-E",
    "itemize": "Ctrl-I"
   },
   "labels_anchors": false,
   "latex_user_defs": false,
   "report_style_numbering": false,
   "user_envs_cfg": false
  },
  "varInspector": {
   "cols": {
    "lenName": 16,
    "lenType": 16,
    "lenVar": 40
   },
   "kernels_config": {
    "python": {
     "delete_cmd_postfix": "",
     "delete_cmd_prefix": "del ",
     "library": "var_list.py",
     "varRefreshCmd": "print(var_dic_list())"
    },
    "r": {
     "delete_cmd_postfix": ") ",
     "delete_cmd_prefix": "rm(",
     "library": "var_list.r",
     "varRefreshCmd": "cat(var_dic_list()) "
    }
   },
   "position": {
    "height": "254px",
    "left": "961px",
    "right": "20px",
    "top": "-2px",
    "width": "461px"
   },
   "types_to_exclude": [
    "module",
    "function",
    "builtin_function_or_method",
    "instance",
    "_Feature"
   ],
   "window_display": false
  },
  "widgets": {
   "application/vnd.jupyter.widget-state+json": {
    "state": {},
    "version_major": 2,
    "version_minor": 0
   }
  }
 },
 "nbformat": 4,
 "nbformat_minor": 4
}
