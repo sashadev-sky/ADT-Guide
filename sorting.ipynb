{
 "cells": [
  {
   "cell_type": "markdown",
   "metadata": {},
   "source": [
    "# Sorting"
   ]
  },
  {
   "cell_type": "markdown",
   "metadata": {},
   "source": [
    "**Algorithm**  | **Avg Case**| **Worst Case** | **Best Case**  | **Space Complexity** | **Stability** | **Internal/ External** | **Iterative/ Recursive** | **Comments**\n",
    ":---------     | :---------  | :---------- | :-------  | :--------        | :----     | :---:              | :---:                | :---\n",
    "Bubble Sort    | $O(n^2)$    | $O(n^2)$    | $O(n)$    |   $O(1)$         |  Stable   |  Internal         | Iterative           | $O(n^2)$ bc we iterate through $n$ items $n-1$ times. $O(n)$ when the list is already sorted. $O(1)$ bc in-place\n",
    "Selection Sort | $O(n^2)$    | $O(n^2)$    | $O(n^2)$  |   $O(1)$         |  Unstable |  Internal         | Iterative           | $O(n^2)$ best case bc this one has to continue iterating even if the list is already sorted. But avg. case faster than bubble sort bc iterates over a list with 1 less element every time\n",
    "Insertion Sort | $O(n^2)$    | $O(n^2)$     | $O(n)$       |   $O(1)$           |  Stable   |  Internal         | Iterative           | Iterates 2x. Nearly sorted lists are closer to $O(n)$. Also beneficial for \"small enough\" lists\n",
    "Merge Sort     | $O(nlogn)$  | $O(nlogn)$ | $O(nlogn)$ |   $O(n)$           |  Stable   |  External         | Recursive           | Out of place because requires a temporary list structure in order to sort and append elements. $O(n)$ is the memory needed for the temporary buffer list. $log(n)$ steps to break down a list of size $n$ (we already computed in a **binary search** that we can divide a list in half $log(𝑛)$ times where $n$ is the length of the list) then $O(n)$ complexity at each level for the number of elements at that level. Together that is $O(nlogn)$ \n",
    "Quick Sort     | $O(nlogn)$  | $O(n^2)$     | O(nlog(n)) |  $O(logn)$          |  Unstable | Internal         |  Recursive          | $O(logn)$ space complexity since quicksort calls itself on the order of $logn$ times (in the average case, worst case number of calls is $O(n)$), at each recursive call a new stack frame of constant size must be allocated.\n",
    "Heap Sort      | O(nlog(n))  | O(nlog(n)) | $O(n)$       |  $O(1)$         |  Unstable |                   |                     |\n",
    "Tim Sort       |             | $O(nlogn)$| $O(n)$       |                  |  Stable   |                   |                     |\n",
    "Radix Sort     |             |            |            |                  |           |                   |                     |\n",
    "Tree Sort      |             |            |            |                  |  Unstable |                   |                     |"
   ]
  },
  {
   "cell_type": "markdown",
   "metadata": {},
   "source": [
    " #### Configurations & Tools Setup:"
   ]
  },
  {
   "cell_type": "code",
   "execution_count": 367,
   "metadata": {
    "ExecuteTime": {
     "end_time": "2020-12-20T13:53:44.880740Z",
     "start_time": "2020-12-20T13:53:44.871577Z"
    },
    "code_folding": [],
    "execution": {
     "iopub.execute_input": "2020-12-17T09:39:57.782362Z",
     "iopub.status.busy": "2020-12-17T09:39:57.781914Z",
     "iopub.status.idle": "2020-12-17T09:39:57.940046Z",
     "shell.execute_reply": "2020-12-17T09:39:57.938926Z",
     "shell.execute_reply.started": "2020-12-17T09:39:57.782299Z"
    },
    "init_cell": true,
    "run_control": {
     "marked": true
    },
    "tags": [
     "setup"
    ]
   },
   "outputs": [],
   "source": [
    "%reload_ext tutormagic\n",
    "import memory_profiler\n",
    "import time\n",
    "import random\n",
    "import warnings\n",
    "warnings.filterwarnings('ignore')\n",
    "from IPython.display import Markdown, display\n",
    "def printmd(string, color=None):\n",
    "    colorstr = \"<span style='color:{}'>{}</span>\".format(color, string)\n",
    "    display(Markdown(colorstr))"
   ]
  },
  {
   "cell_type": "markdown",
   "metadata": {},
   "source": [
    "## Bubble Sort\n",
    "\n",
    "Parallel assignment, ‘while [unsorted] true’ loop"
   ]
  },
  {
   "cell_type": "code",
   "execution_count": 368,
   "metadata": {
    "ExecuteTime": {
     "end_time": "2020-12-20T13:53:44.889814Z",
     "start_time": "2020-12-20T13:53:44.883887Z"
    },
    "execution": {
     "iopub.execute_input": "2020-12-17T08:03:10.772332Z",
     "iopub.status.busy": "2020-12-17T08:03:10.772014Z",
     "iopub.status.idle": "2020-12-17T08:03:10.779365Z",
     "shell.execute_reply": "2020-12-17T08:03:10.778548Z",
     "shell.execute_reply.started": "2020-12-17T08:03:10.772301Z"
    },
    "hideCode": false,
    "hideOutput": false,
    "hidePrompt": false,
    "init_cell": true
   },
   "outputs": [
    {
     "data": {
      "text/markdown": [
       "<span style='color:blue'>[1, 2, 3, 4, 5, 6, 7, 8, 8, 9, 10]</span>"
      ],
      "text/plain": [
       "<IPython.core.display.Markdown object>"
      ]
     },
     "metadata": {},
     "output_type": "display_data"
    }
   ],
   "source": [
    "lst = [6, 8, 1, 4, 10, 7, 8, 9, 3, 2, 5]\n",
    "\n",
    "unsorted = True\n",
    "while unsorted:\n",
    "    unsorted = False\n",
    "    for i in range(len(lst) - 1):\n",
    "        if lst[i] > lst[i + 1]:\n",
    "            unsorted = True\n",
    "            lst[i], lst[i + 1] = lst[i + 1], lst[i]\n",
    "\n",
    "printmd(lst, color=\"blue\")"
   ]
  },
  {
   "cell_type": "markdown",
   "metadata": {},
   "source": [
    "### Original Case, Worst Case, Best Case\n",
    "\n",
    "- The number of iterations for `bubble_sort` is calculated by $n*(n-1)$. The best case scenario, a fully sorted collection, is $n-1$. The printed outputs below demonstrate this."
   ]
  },
  {
   "cell_type": "code",
   "execution_count": 185,
   "metadata": {
    "ExecuteTime": {
     "end_time": "2020-12-18T07:28:18.644194Z",
     "start_time": "2020-12-18T07:28:18.614823Z"
    },
    "code_folding": [
     0
    ],
    "execution": {
     "iopub.execute_input": "2020-12-17T09:41:29.059198Z",
     "iopub.status.busy": "2020-12-17T09:41:29.058852Z",
     "iopub.status.idle": "2020-12-17T09:41:29.067044Z",
     "shell.execute_reply": "2020-12-17T09:41:29.065808Z",
     "shell.execute_reply.started": "2020-12-17T09:41:29.059158Z"
    },
    "hideCode": true,
    "tags": [
     "pytutor"
    ]
   },
   "outputs": [
    {
     "data": {
      "text/html": [
       "\n",
       "        <iframe\n",
       "            width=\"100%\"\n",
       "            height=\"650\"\n",
       "            src=\"http://pythontutor.com/iframe-embed.html#code=original_case%20%3D%20%5B6%2C%208%2C%201%2C%204%2C%2010%2C%207%2C%208%2C%209%2C%203%2C%202%2C%205%5D%0Aworst_case%20%3D%20%5B10%2C%209%2C%208%2C%208%2C%207%2C%206%2C%205%2C%204%2C%203%2C%202%2C%201%5D%0Abest_case%20%3D%20%5B1%2C%202%2C%203%2C%204%2C%205%2C%206%2C%207%2C%208%2C%208%2C%209%2C%2010%5D%0A%0Adef%20bubble_sort%28lst%29%3A%0A%20%20%20%20unsorted%20%3D%20True%0A%20%20%20%20comparisons%20%3D%200%0A%20%20%20%20while%20unsorted%3A%0A%20%20%20%20%20%20%20%20unsorted%20%3D%20False%0A%20%20%20%20%20%20%20%20for%20i%20in%20range%28len%28lst%29%20-%201%29%3A%0A%20%20%20%20%20%20%20%20%20%20%20%20comparisons%20%2B%3D%201%0A%20%20%20%20%20%20%20%20%20%20%20%20if%20lst%5Bi%5D%20%3E%20lst%5Bi%20%2B%201%5D%3A%0A%20%20%20%20%20%20%20%20%20%20%20%20%20%20%20%20unsorted%20%3D%20True%0A%20%20%20%20%20%20%20%20%20%20%20%20%20%20%20%20lst%5Bi%5D%2C%20lst%5Bi%20%2B%201%5D%20%3D%20lst%5Bi%20%2B%201%5D%2C%20lst%5Bi%5D%0A%20%20%20%20return%20comparisons%0A%0Aprint%28%27Comparisons%3A%27%29%0Aprint%28%27%5Ct%27%2C%20f%27original%3A%20%7Bbubble_sort%28original_case%29%3A7%7D%27%29%20%20%23%2090%0Aprint%28%27%5Ct%27%2C%20f%27worst%20case%3A%20%7Bbubble_sort%28worst_case%29%3A5%7D%27%29%20%20%23%2011%20%2A%20%2811%20-%201%29%20%3D%20110%0Aprint%28%27%5Ct%27%2C%20f%27best%20case%3A%20%7Bbubble_sort%28best_case%29%3A6%7D%27%29%20%20%23%2011%20-%201%20%3D%2010%0A&origin=opt-frontend.js&cumulative=false&heapPrimitives=false&textReferences=true&curInstr=885&&verticalStack=false&py=3&rawInputLstJSON=%5B%5D&codeDivWidth=50%25&codeDivHeight=100%25\"\n",
       "            frameborder=\"0\"\n",
       "            allowfullscreen\n",
       "        ></iframe>\n",
       "        "
      ],
      "text/plain": [
       "<IPython.lib.display.IFrame at 0x1132177f0>"
      ]
     },
     "metadata": {},
     "output_type": "display_data"
    }
   ],
   "source": [
    "%%tutor --textReferences --curInstr 885 --lang python3 -h 650\n",
    "original_case = [6, 8, 1, 4, 10, 7, 8, 9, 3, 2, 5]\n",
    "worst_case = [10, 9, 8, 8, 7, 6, 5, 4, 3, 2, 1]\n",
    "best_case = [1, 2, 3, 4, 5, 6, 7, 8, 8, 9, 10]\n",
    "\n",
    "def bubble_sort(lst):\n",
    "    unsorted = True\n",
    "    comparisons = 0\n",
    "    while unsorted:\n",
    "        unsorted = False\n",
    "        for i in range(len(lst) - 1):\n",
    "            comparisons += 1\n",
    "            if lst[i] > lst[i + 1]:\n",
    "                unsorted = True\n",
    "                lst[i], lst[i + 1] = lst[i + 1], lst[i]\n",
    "    return comparisons\n",
    "\n",
    "print('Comparisons:')\n",
    "print('\\t', f'original: {bubble_sort(original_case):7}')  # 90\n",
    "print('\\t', f'worst case: {bubble_sort(worst_case):5}')  # 11 * (11 - 1) = 110\n",
    "print('\\t', f'best case: {bubble_sort(best_case):6}')  # 11 - 1 = 10"
   ]
  },
  {
   "cell_type": "markdown",
   "metadata": {},
   "source": [
    "## Selection Sort"
   ]
  },
  {
   "cell_type": "code",
   "execution_count": 369,
   "metadata": {
    "ExecuteTime": {
     "end_time": "2020-12-20T13:53:44.898001Z",
     "start_time": "2020-12-20T13:53:44.892518Z"
    },
    "execution": {
     "iopub.execute_input": "2020-12-17T08:03:20.780585Z",
     "iopub.status.busy": "2020-12-17T08:03:20.780343Z",
     "iopub.status.idle": "2020-12-17T08:03:20.788138Z",
     "shell.execute_reply": "2020-12-17T08:03:20.787213Z",
     "shell.execute_reply.started": "2020-12-17T08:03:20.780558Z"
    },
    "init_cell": true
   },
   "outputs": [
    {
     "data": {
      "text/markdown": [
       "<span style='color:blue'>[1, 2, 3, 4, 5, 6, 7, 8, 8, 9, 10]</span>"
      ],
      "text/plain": [
       "<IPython.core.display.Markdown object>"
      ]
     },
     "metadata": {},
     "output_type": "display_data"
    }
   ],
   "source": [
    "lst = [6, 8, 1, 4, 10, 7, 8, 9, 3, 2, 5]\n",
    "\n",
    "mindex = 0\n",
    "while mindex < len(lst):\n",
    "    for i in range(mindex, len(lst)):\n",
    "        if lst[i] < lst[mindex]:\n",
    "            lst[i], lst[mindex] = lst[mindex], lst[i]\n",
    "    mindex += 1\n",
    "    \n",
    "printmd(lst, color=\"blue\")"
   ]
  },
  {
   "cell_type": "markdown",
   "metadata": {},
   "source": [
    "### Original Case, Worst Case, Best Case\n",
    "\n",
    "- The num of iterations for `selection_sort` is calculated by $(n^2/2) + (n / 2)$. This applies to the best case scenario too - `selection_sort` loops rain or sunshine. The printed outputs below demonstrate this."
   ]
  },
  {
   "cell_type": "code",
   "execution_count": 183,
   "metadata": {
    "ExecuteTime": {
     "end_time": "2020-12-17T23:54:12.264553Z",
     "start_time": "2020-12-17T23:54:12.240907Z"
    },
    "code_folding": [
     0
    ],
    "execution": {
     "iopub.execute_input": "2020-12-17T06:55:53.643145Z",
     "iopub.status.busy": "2020-12-17T06:55:53.642929Z",
     "iopub.status.idle": "2020-12-17T06:55:53.648494Z",
     "shell.execute_reply": "2020-12-17T06:55:53.647744Z",
     "shell.execute_reply.started": "2020-12-17T06:55:53.643119Z"
    },
    "hideCode": true
   },
   "outputs": [
    {
     "data": {
      "text/html": [
       "\n",
       "        <iframe\n",
       "            width=\"100%\"\n",
       "            height=\"650\"\n",
       "            src=\"http://pythontutor.com/iframe-embed.html#code=original_case%20%3D%20%5B6%2C%208%2C%201%2C%204%2C%2010%2C%207%2C%208%2C%209%2C%203%2C%202%2C%205%5D%0Aworst_case%20%3D%20%5B10%2C%209%2C%208%2C%208%2C%207%2C%206%2C%205%2C%204%2C%203%2C%202%2C%201%5D%0Abest_case%20%3D%20%5B1%2C%202%2C%203%2C%204%2C%205%2C%206%2C%207%2C%208%2C%208%2C%209%2C%2010%5D%0A%0Adef%20selection_sort%28lst%29%3A%0A%20%20%20%20mindex%20%3D%200%0A%20%20%20%20comparisons%20%3D%200%0A%20%20%20%20while%20mindex%20%3C%20len%28lst%29%3A%0A%20%20%20%20%20%20%20%20for%20i%20in%20range%28mindex%2C%20len%28lst%29%29%3A%0A%20%20%20%20%20%20%20%20%20%20%20%20comparisons%20%2B%3D%201%0A%20%20%20%20%20%20%20%20%20%20%20%20if%20lst%5Bi%5D%20%3C%20lst%5Bmindex%5D%3A%0A%20%20%20%20%20%20%20%20%20%20%20%20%20%20%20%20lst%5Bi%5D%2C%20lst%5Bmindex%5D%20%3D%20lst%5Bmindex%5D%2C%20lst%5Bi%5D%0A%20%20%20%20%20%20%20%20mindex%20%2B%3D%201%0A%20%20%20%20%0A%20%20%20%20return%20comparisons%20%20%0A%20%0Aprint%28%27Comparisons%3A%27%29%0Aprint%28%27%5Ct%27%2C%20f%27original%3A%20%7Bselection_sort%28original_case%29%3A7%7D%27%29%20%20%23%2066%0Aprint%28%27%5Ct%27%2C%20f%27worst%20case%3A%20%7Bselection_sort%28worst_case%29%3A5%7D%27%29%20%20%23%20%2811%5E2%20/%202%29%20%2B%20%2811%20/%202%29%C2%A0%3D%C2%A066%0Aprint%28%27%5Ct%27%2C%20f%27best%20case%3A%20%7Bselection_sort%28best_case%29%3A6%7D%27%29%20%20%23%2066%0A&origin=opt-frontend.js&cumulative=false&heapPrimitives=false&textReferences=true&curInstr=792&&verticalStack=false&py=3&rawInputLstJSON=%5B%5D&codeDivWidth=50%25&codeDivHeight=100%25\"\n",
       "            frameborder=\"0\"\n",
       "            allowfullscreen\n",
       "        ></iframe>\n",
       "        "
      ],
      "text/plain": [
       "<IPython.lib.display.IFrame at 0x1131fb0a0>"
      ]
     },
     "metadata": {},
     "output_type": "display_data"
    }
   ],
   "source": [
    "%%tutor --textReferences --curInstr 792 --lang python3 -h 650\n",
    "original_case = [6, 8, 1, 4, 10, 7, 8, 9, 3, 2, 5]\n",
    "worst_case = [10, 9, 8, 8, 7, 6, 5, 4, 3, 2, 1]\n",
    "best_case = [1, 2, 3, 4, 5, 6, 7, 8, 8, 9, 10]\n",
    "\n",
    "def selection_sort(lst):\n",
    "    mindex = 0\n",
    "    comparisons = 0\n",
    "    while mindex < len(lst):\n",
    "        for i in range(mindex, len(lst)):\n",
    "            comparisons += 1\n",
    "            if lst[i] < lst[mindex]:\n",
    "                lst[i], lst[mindex] = lst[mindex], lst[i]\n",
    "        mindex += 1\n",
    "    \n",
    "    return comparisons  \n",
    " \n",
    "print('Comparisons:')\n",
    "print('\\t', f'original: {selection_sort(original_case):7}')  # 66\n",
    "print('\\t', f'worst case: {selection_sort(worst_case):5}')  # (11^2 / 2) + (11 / 2) = 66\n",
    "print('\\t', f'best case: {selection_sort(best_case):6}')  # 66"
   ]
  },
  {
   "cell_type": "markdown",
   "metadata": {},
   "source": [
    "## Insertion Sort"
   ]
  },
  {
   "cell_type": "code",
   "execution_count": 370,
   "metadata": {
    "ExecuteTime": {
     "end_time": "2020-12-20T13:53:44.905380Z",
     "start_time": "2020-12-20T13:53:44.900372Z"
    },
    "execution": {
     "iopub.execute_input": "2020-12-17T08:03:26.785425Z",
     "iopub.status.busy": "2020-12-17T08:03:26.785188Z",
     "iopub.status.idle": "2020-12-17T08:03:26.792196Z",
     "shell.execute_reply": "2020-12-17T08:03:26.791445Z",
     "shell.execute_reply.started": "2020-12-17T08:03:26.785398Z"
    },
    "init_cell": true,
    "scrolled": false
   },
   "outputs": [
    {
     "data": {
      "text/markdown": [
       "<span style='color:blue'>[1, 2, 3, 4, 5, 6, 7, 8, 8, 9, 10]</span>"
      ],
      "text/plain": [
       "<IPython.core.display.Markdown object>"
      ]
     },
     "metadata": {},
     "output_type": "display_data"
    }
   ],
   "source": [
    "lst = [6, 8, 1, 4, 10, 7, 8, 9, 3, 2, 5]\n",
    "\n",
    "for key in range(1, len(lst)):\n",
    "    if lst[key] < lst[key - 1]:\n",
    "        j = key\n",
    "        while j > 0 and lst[j] < lst[j - 1]:\n",
    "            lst[j], lst[j - 1] = lst[j - 1], lst[j]\n",
    "            j -= 1\n",
    "        \n",
    "printmd(lst, color=\"blue\")"
   ]
  },
  {
   "cell_type": "markdown",
   "metadata": {},
   "source": [
    "### Original Case, Worst Case, Best Case\n",
    "\n",
    "- The num of iterations for `insertion_sort` is calculated by $(I + (n - 1))$, where $I$ is the number of **inversions**. This applies to every case - the algorithm is faster for nearly sorted lists. This is obviously an improvement from the past 2 algs, but `insertion_sort` still rolls with the quadratic group."
   ]
  },
  {
   "cell_type": "markdown",
   "metadata": {},
   "source": [
    "Helper method:"
   ]
  },
  {
   "cell_type": "code",
   "execution_count": 371,
   "metadata": {
    "ExecuteTime": {
     "end_time": "2020-12-20T13:53:44.910920Z",
     "start_time": "2020-12-20T13:53:44.907394Z"
    },
    "execution": {
     "iopub.execute_input": "2020-12-17T06:55:53.659484Z",
     "iopub.status.busy": "2020-12-17T06:55:53.659273Z",
     "iopub.status.idle": "2020-12-17T06:55:53.664152Z",
     "shell.execute_reply": "2020-12-17T06:55:53.663142Z",
     "shell.execute_reply.started": "2020-12-17T06:55:53.659459Z"
    },
    "init_cell": true
   },
   "outputs": [],
   "source": [
    "def getInvCount(arr): \n",
    "    inv_count = 0\n",
    "    for i in range(len(arr)): \n",
    "        for j in range(i + 1, len(arr)): \n",
    "            if (arr[i] > arr[j]): \n",
    "                inv_count += 1\n",
    "    return inv_count"
   ]
  },
  {
   "cell_type": "code",
   "execution_count": 30,
   "metadata": {
    "ExecuteTime": {
     "end_time": "2020-12-17T17:30:17.838659Z",
     "start_time": "2020-12-17T17:30:17.826839Z"
    },
    "code_folding": [
     4
    ],
    "execution": {
     "iopub.execute_input": "2020-12-17T06:55:53.665961Z",
     "iopub.status.busy": "2020-12-17T06:55:53.665607Z",
     "iopub.status.idle": "2020-12-17T06:55:53.680712Z",
     "shell.execute_reply": "2020-12-17T06:55:53.679947Z",
     "shell.execute_reply.started": "2020-12-17T06:55:53.665916Z"
    },
    "hideCode": true,
    "scrolled": true
   },
   "outputs": [
    {
     "data": {
      "text/markdown": [
       "<span style='color:blue'>original case [Iterations: 39; Inversions: 29]</span>"
      ],
      "text/plain": [
       "<IPython.core.display.Markdown object>"
      ]
     },
     "metadata": {},
     "output_type": "display_data"
    },
    {
     "data": {
      "text/markdown": [
       "<span style='color:blue'>worst case [Iterations: 64; Inversions: 54]</span>"
      ],
      "text/plain": [
       "<IPython.core.display.Markdown object>"
      ]
     },
     "metadata": {},
     "output_type": "display_data"
    },
    {
     "data": {
      "text/markdown": [
       "<span style='color:blue'>best case [Iterations: 10; Inversions: 0]</span>"
      ],
      "text/plain": [
       "<IPython.core.display.Markdown object>"
      ]
     },
     "metadata": {},
     "output_type": "display_data"
    }
   ],
   "source": [
    "original_case = [6, 8, 1, 4, 10, 7, 8, 9, 3, 2, 5]\n",
    "worst_case = [10, 9, 8, 8, 7, 6, 5, 4, 3, 2, 1]\n",
    "best_case = [1, 2, 3, 4, 5, 6, 7, 8, 8, 9, 10]\n",
    "\n",
    "def insertion_sort(case, lst, inv):\n",
    "    comparison = 0\n",
    "    for key in range(1, len(lst)):\n",
    "        comparison += 1\n",
    "        if lst[key] < lst[key - 1]:\n",
    "            j = key\n",
    "            while j > 0 and lst[j] < lst[j - 1]:\n",
    "                comparison += 1\n",
    "                lst[j], lst[j - 1] = lst[j - 1], lst[j]\n",
    "                j -= 1\n",
    "    printmd(f'{case} case [Iterations: {comparison}; Inversions: {inv}]', color=\"blue\")\n",
    "\n",
    "insertion_sort(\"original\", original_case, getInvCount(original_case))  # 39\n",
    "insertion_sort(\"worst\", worst_case, getInvCount(worst_case))  # 64 (54 inversions + (11 elements - 1))\n",
    "insertion_sort(\"best\", best_case, getInvCount(best_case))  # 11 - 1 = 10"
   ]
  },
  {
   "cell_type": "code",
   "execution_count": 315,
   "metadata": {
    "ExecuteTime": {
     "end_time": "2020-12-20T10:13:56.671731Z",
     "start_time": "2020-12-20T10:13:56.666095Z"
    },
    "code_folding": [
     0,
     5
    ],
    "execution": {
     "iopub.execute_input": "2020-12-17T06:55:53.682181Z",
     "iopub.status.busy": "2020-12-17T06:55:53.681811Z",
     "iopub.status.idle": "2020-12-17T06:55:53.688963Z",
     "shell.execute_reply": "2020-12-17T06:55:53.687953Z",
     "shell.execute_reply.started": "2020-12-17T06:55:53.682147Z"
    },
    "hideCode": true
   },
   "outputs": [
    {
     "data": {
      "text/html": [
       "\n",
       "        <iframe\n",
       "            width=\"100%\"\n",
       "            height=\"650\"\n",
       "            src=\"http://pythontutor.com/iframe-embed.html#code=original_case%20%3D%20%5B6%2C%208%2C%201%2C%204%2C%2010%2C%207%2C%208%2C%209%2C%203%2C%202%2C%205%5D%0Aworst_case%20%3D%20%5B10%2C%209%2C%208%2C%208%2C%207%2C%206%2C%205%2C%204%2C%203%2C%202%2C%201%5D%0Abest_case%20%3D%20%5B1%2C%202%2C%203%2C%204%2C%205%2C%206%2C%207%2C%208%2C%208%2C%209%2C%2010%5D%0A%0Adef%20insertion_sort%28lst%29%3A%0A%20%20%20%20comparison%20%3D%200%0A%20%20%20%20for%20key%20in%20range%281%2C%20len%28lst%29%29%3A%0A%20%20%20%20%20%20%20%20comparison%20%2B%3D%201%0A%20%20%20%20%20%20%20%20if%20lst%5Bkey%5D%20%3C%20lst%5Bkey%20-%201%5D%3A%0A%20%20%20%20%20%20%20%20%20%20%20%20j%20%3D%20key%0A%20%20%20%20%20%20%20%20%20%20%20%20while%20j%20%3E%200%20and%20lst%5Bj%5D%20%3C%20lst%5Bj%20-%201%5D%3A%0A%20%20%20%20%20%20%20%20%20%20%20%20%20%20%20%20comparison%20%2B%3D%201%0A%20%20%20%20%20%20%20%20%20%20%20%20%20%20%20%20lst%5Bj%5D%2C%20lst%5Bj%20-%201%5D%20%3D%20lst%5Bj%20-%201%5D%2C%20lst%5Bj%5D%0A%20%20%20%20%20%20%20%20%20%20%20%20%20%20%20%20j%20-%3D%201%0A%20%20%20%20return%20comparison%0A%0Aprint%28%27Comparisons%3A%27%29%0Aprint%28%27%5Ct%27%2C%20f%27original%3A%20%7Binsertion_sort%28original_case%29%3A7%7D%27%29%20%20%23%2039%0Aprint%28%27%5Ct%27%2C%20f%27worst%20case%3A%20%7Binsertion_sort%28worst_case%29%3A5%7D%27%29%20%20%23%2064%20%2854%20inversions%20%2B%20%2811%20elements%20-%201%29%29%0Aprint%28%27%5Ct%27%2C%20f%27best%20case%3A%20%7Binsertion_sort%28best_case%29%3A6%7D%27%29%20%20%23%2010%20%2811%20-%201%29%0A&origin=opt-frontend.js&cumulative=false&heapPrimitives=false&textReferences=true&curInstr=481&&verticalStack=false&py=3&rawInputLstJSON=%5B%5D&codeDivWidth=50%25&codeDivHeight=100%25\"\n",
       "            frameborder=\"0\"\n",
       "            allowfullscreen\n",
       "        ></iframe>\n",
       "        "
      ],
      "text/plain": [
       "<IPython.lib.display.IFrame at 0x127cec520>"
      ]
     },
     "metadata": {},
     "output_type": "display_data"
    }
   ],
   "source": [
    "%%tutor --textReferences --curInstr 481 --lang python3 -h 650\n",
    "original_case = [6, 8, 1, 4, 10, 7, 8, 9, 3, 2, 5]\n",
    "worst_case = [10, 9, 8, 8, 7, 6, 5, 4, 3, 2, 1]\n",
    "best_case = [1, 2, 3, 4, 5, 6, 7, 8, 8, 9, 10]\n",
    "\n",
    "def insertion_sort(lst):\n",
    "    comparison = 0\n",
    "    for key in range(1, len(lst)):\n",
    "        comparison += 1\n",
    "        if lst[key] < lst[key - 1]:\n",
    "            j = key\n",
    "            while j > 0 and lst[j] < lst[j - 1]:\n",
    "                comparison += 1\n",
    "                lst[j], lst[j - 1] = lst[j - 1], lst[j]\n",
    "                j -= 1\n",
    "    return comparison\n",
    "\n",
    "print('Comparisons:')\n",
    "print('\\t', f'original: {insertion_sort(original_case):7}')  # 39\n",
    "print('\\t', f'worst case: {insertion_sort(worst_case):5}')  # 64 (54 inversions + (11 elements - 1))\n",
    "print('\\t', f'best case: {insertion_sort(best_case):6}')  # 10 (11 - 1)"
   ]
  },
  {
   "cell_type": "markdown",
   "metadata": {},
   "source": [
    "## Merge Sort\n",
    "<div class=\"alert alert-block alert-info\" style=\"font-family:math\">\n",
    "    <ol>\n",
    "        <li>Specify the recursive base case</li>\n",
    "        <li>Find the midpoint of the list</li>\n",
    "        <li>Run <code>merge_sort</code> on the left and right-hand sides</li>\n",
    "        <li><code>merge</code> sorted lists back together</li>\n",
    "    </ol>\n",
    "</div>"
   ]
  },
  {
   "cell_type": "code",
   "execution_count": 372,
   "metadata": {
    "ExecuteTime": {
     "end_time": "2020-12-20T13:53:44.917959Z",
     "start_time": "2020-12-20T13:53:44.913002Z"
    },
    "execution": {
     "iopub.execute_input": "2020-12-17T08:03:33.108071Z",
     "iopub.status.busy": "2020-12-17T08:03:33.107843Z",
     "iopub.status.idle": "2020-12-17T08:03:33.114227Z",
     "shell.execute_reply": "2020-12-17T08:03:33.113337Z",
     "shell.execute_reply.started": "2020-12-17T08:03:33.108045Z"
    },
    "init_cell": true
   },
   "outputs": [],
   "source": [
    "def merge_sort(lst):\n",
    "    if len(lst) < 2: return lst\n",
    "\n",
    "    midx = len(lst) // 2\n",
    "\n",
    "    return merge(\n",
    "        merge_sort(lst[:midx]),\n",
    "        merge_sort(lst[midx:])\n",
    "    )\n",
    "\n",
    "def merge(left, right):\n",
    "    merge_lst = []\n",
    "    left.reverse()\n",
    "    right.reverse()\n",
    "    while left and right:\n",
    "        merge_lst.append(left.pop() if left[-1] <= right[-1] else right.pop())  # small detail: the `=` in `<=` ensures a stable implementation like the alg\n",
    "    left.reverse()\n",
    "    right.reverse()\n",
    "    merge_lst.extend(left if left else right)\n",
    "    return merge_lst"
   ]
  },
  {
   "cell_type": "markdown",
   "metadata": {},
   "source": [
    "<div class=\"alert alert-block alert-info\" style=\"color:navy;font-family:math\">\n",
    "    <p><strong>NOTE</strong>:</p>\n",
    "    <br>\n",
    "    <span>My original implementation of <code>merge</code> when doing the comparisons below was:</span>\n",
    "    <pre>\n",
    "    def merge(left, right):\n",
    "        merge_lst = []\n",
    "        while left and right:\n",
    "            merge_lst.append(left.pop(0) if left[0] <= right[0] else right.pop(0))\n",
    "        merge_lst.extend(left if left else right)\n",
    "        return merge_lst\n",
    "   </pre>\n",
    "    <br>\n",
    "    <span>My code was much slower than the other <code>mergeSort</code> implementation - although it was still $O(nlogn)$:</span>\n",
    "    <br>\n",
    "    <pre>\n",
    "    Medium List (100,000 elements): merge_sort: 1.2s mergeSort: 0.6s\n",
    "    Big List (500,000 elements): merge_sort: 29.0s mergeSort: 3.4s\n",
    "    </pre>\n",
    "    <br>\n",
    "    <span>The culprit was <code>pop</code>ping from the front of the lists (this is $O(n)$). By reversing the lists, <code>pop</code>ping from the end, and reversing them back before <code>extend</code>ing them onto the final list, I got this down to $O(1)$ and my code even became faster than the other implementation:</span>\n",
    "    <br>\n",
    "    <pre>\n",
    "    Medium List (100,000 elements): merge_sort: 0.5s mergeSort: 0.7s\n",
    "    Big List (500,000 elements): merge_sort: 2.6s mergeSort: 4.0s\n",
    "    </pre>\n",
    "</div>"
   ]
  },
  {
   "cell_type": "markdown",
   "metadata": {},
   "source": [
    "<div class=\"alert alert-block alert-info\" style=\"color:navy;font-family:math\">\n",
    "    <span>I am going to compare my implementation, which returns a new array, to this implementation I found below which re-assigns the indices in the old one.</span>\n",
    "</div>"
   ]
  },
  {
   "cell_type": "code",
   "execution_count": 373,
   "metadata": {
    "ExecuteTime": {
     "end_time": "2020-12-20T13:53:44.941955Z",
     "start_time": "2020-12-20T13:53:44.921013Z"
    },
    "init_cell": true
   },
   "outputs": [],
   "source": [
    "def mergeSort(alist):\n",
    "    if len(alist)>1:\n",
    "        mid = len(alist)//2\n",
    "        lefthalf = alist[:mid]\n",
    "        righthalf = alist[mid:]\n",
    "\n",
    "        mergeSort(lefthalf)\n",
    "        mergeSort(righthalf)\n",
    "\n",
    "        i=0\n",
    "        j=0\n",
    "        k=0\n",
    "        while i < len(lefthalf) and j < len(righthalf):\n",
    "            if lefthalf[i] <= righthalf[j]:\n",
    "                alist[k]=lefthalf[i]\n",
    "                i=i+1\n",
    "            else:\n",
    "                alist[k]=righthalf[j]\n",
    "                j=j+1\n",
    "            k=k+1\n",
    "\n",
    "        while i < len(lefthalf):\n",
    "            alist[k]=lefthalf[i]\n",
    "            i=i+1\n",
    "            k=k+1\n",
    "\n",
    "        while j < len(righthalf):\n",
    "            alist[k]=righthalf[j]\n",
    "            j=j+1\n",
    "            k=k+1"
   ]
  },
  {
   "cell_type": "markdown",
   "metadata": {},
   "source": [
    "<div class=\"alert alert-block alert-info\" style=\"color:navy;font-family:math\">\n",
    "    <p><strong>Further improvement:</strong></p>\n",
    "\n",
    "<span>Recall that the slicing operator is $𝑂(𝑘)$ where $k$ is the size of the slice.</span>\n",
    "    <ul>\n",
    "      <li>In order to guarantee that (both) <code>merge sort</code> implementations above will be $𝑂(𝑛log(𝑛))$, we will need to remove the slice operator.</li>\n",
    "      <li>Also, both implementations require extra space to hold the two halves as they are extracted. This can be a critical factor when working on large data sets and can make this sort problematic.</li>\n",
    "</ul>\n",
    "<br>\n",
    "<p>So, this will be a space and time improvement, and it is possible if we simply pass the starting and ending indices along with the list when we make the recursive call. <em>(Unimplemented)</em></p>\n",
    "</div>\n"
   ]
  },
  {
   "cell_type": "markdown",
   "metadata": {},
   "source": [
    "### Original Case, Worst Case, Best Case"
   ]
  },
  {
   "cell_type": "code",
   "execution_count": 374,
   "metadata": {
    "ExecuteTime": {
     "end_time": "2020-12-20T13:53:44.948010Z",
     "start_time": "2020-12-20T13:53:44.944493Z"
    },
    "execution": {
     "iopub.execute_input": "2020-12-17T08:03:37.384470Z",
     "iopub.status.busy": "2020-12-17T08:03:37.383973Z",
     "iopub.status.idle": "2020-12-17T08:03:37.494814Z",
     "shell.execute_reply": "2020-12-17T08:03:37.493910Z",
     "shell.execute_reply.started": "2020-12-17T08:03:37.384441Z"
    },
    "init_cell": true
   },
   "outputs": [],
   "source": [
    "small_lst = [6, 8, 1, 4, 10, 7, 8, 9, 3, 2, 5]\n",
    "small_lst2 = [6, 8, 1, 4, 0, 7, 8, 9, 3, 2, 5]"
   ]
  },
  {
   "cell_type": "markdown",
   "metadata": {},
   "source": [
    "<code>merge_sort</code>"
   ]
  },
  {
   "cell_type": "code",
   "execution_count": 231,
   "metadata": {
    "ExecuteTime": {
     "end_time": "2020-12-18T08:16:26.571759Z",
     "start_time": "2020-12-18T08:16:26.356830Z"
    }
   },
   "outputs": [
    {
     "data": {
      "text/markdown": [
       "<span style='color:blue'>RAM at start: 99.4MiB</span>"
      ],
      "text/plain": [
       "<IPython.core.display.Markdown object>"
      ]
     },
     "metadata": {},
     "output_type": "display_data"
    },
    {
     "data": {
      "text/markdown": [
       "<span style='color:blue'>Sorting: 11 elements</span>"
      ],
      "text/plain": [
       "<IPython.core.display.Markdown object>"
      ]
     },
     "metadata": {},
     "output_type": "display_data"
    },
    {
     "name": "stdout",
     "output_type": "stream",
     "text": [
      "[1, 2, 3, 4, 5, 6, 7, 8, 8, 9, 10]\n"
     ]
    },
    {
     "data": {
      "text/markdown": [
       "<span style='color:blue'>RAM after sorting list: 99.4MiB, took 0.0s</span>"
      ],
      "text/plain": [
       "<IPython.core.display.Markdown object>"
      ]
     },
     "metadata": {},
     "output_type": "display_data"
    }
   ],
   "source": [
    "printmd(f'RAM at start: {memory_profiler.memory_usage()[0]:0.1f}MiB', color='blue')\n",
    "t1 = time.time()\n",
    "printmd(f'Sorting: {len(small_lst)} elements', color=\"blue\")\n",
    "small_res = merge_sort(small_lst)\n",
    "t2 = time.time()\n",
    "print(small_res)\n",
    "printmd(f'RAM after sorting list: {memory_profiler.memory_usage()[0]:0.1f}MiB, took {t2 - t1:0.1f}s', color='blue')"
   ]
  },
  {
   "cell_type": "markdown",
   "metadata": {},
   "source": [
    "<code>mergeSort</code>"
   ]
  },
  {
   "cell_type": "code",
   "execution_count": 232,
   "metadata": {
    "ExecuteTime": {
     "end_time": "2020-12-18T08:16:30.366759Z",
     "start_time": "2020-12-18T08:16:30.150968Z"
    }
   },
   "outputs": [
    {
     "data": {
      "text/markdown": [
       "<span style='color:blue'>RAM at start: 99.4MiB</span>"
      ],
      "text/plain": [
       "<IPython.core.display.Markdown object>"
      ]
     },
     "metadata": {},
     "output_type": "display_data"
    },
    {
     "data": {
      "text/markdown": [
       "<span style='color:blue'>Sorting: 11 elements</span>"
      ],
      "text/plain": [
       "<IPython.core.display.Markdown object>"
      ]
     },
     "metadata": {},
     "output_type": "display_data"
    },
    {
     "name": "stdout",
     "output_type": "stream",
     "text": [
      "[0, 1, 2, 3, 4, 5, 6, 7, 8, 8, 9]\n"
     ]
    },
    {
     "data": {
      "text/markdown": [
       "<span style='color:blue'>RAM after sorting list: 99.5MiB, took 0.0s</span>"
      ],
      "text/plain": [
       "<IPython.core.display.Markdown object>"
      ]
     },
     "metadata": {},
     "output_type": "display_data"
    }
   ],
   "source": [
    "printmd(f'RAM at start: {memory_profiler.memory_usage()[0]:0.1f}MiB', color='blue')\n",
    "t1 = time.time()\n",
    "printmd(f'Sorting: {len(small_lst2)} elements', color=\"blue\")\n",
    "mergeSort(small_lst2)\n",
    "t2 = time.time()\n",
    "print(small_lst2)\n",
    "printmd(f'RAM after sorting list: {memory_profiler.memory_usage()[0]:0.1f}MiB, took {t2 - t1:0.1f}s', color='blue')"
   ]
  },
  {
   "cell_type": "code",
   "execution_count": 375,
   "metadata": {
    "ExecuteTime": {
     "end_time": "2020-12-20T13:53:44.985756Z",
     "start_time": "2020-12-20T13:53:44.950398Z"
    },
    "init_cell": true
   },
   "outputs": [],
   "source": [
    "med_lst = [random.random() for _ in range(100000)]\n",
    "med_lst2 = [random.random() for _ in range(100000)]"
   ]
  },
  {
   "cell_type": "markdown",
   "metadata": {},
   "source": [
    "<code>merge_sort</code>"
   ]
  },
  {
   "cell_type": "code",
   "execution_count": 235,
   "metadata": {
    "ExecuteTime": {
     "end_time": "2020-12-18T08:16:52.032333Z",
     "start_time": "2020-12-18T08:16:51.291705Z"
    }
   },
   "outputs": [
    {
     "data": {
      "text/markdown": [
       "<span style='color:blue'>RAM at start: 93.0MiB</span>"
      ],
      "text/plain": [
       "<IPython.core.display.Markdown object>"
      ]
     },
     "metadata": {},
     "output_type": "display_data"
    },
    {
     "data": {
      "text/markdown": [
       "<span style='color:blue'>Sorting: 100000 elements</span>"
      ],
      "text/plain": [
       "<IPython.core.display.Markdown object>"
      ]
     },
     "metadata": {},
     "output_type": "display_data"
    },
    {
     "data": {
      "text/markdown": [
       "<span style='color:blue'>RAM after sorting list: 91.7MiB, took 0.5s</span>"
      ],
      "text/plain": [
       "<IPython.core.display.Markdown object>"
      ]
     },
     "metadata": {},
     "output_type": "display_data"
    }
   ],
   "source": [
    "printmd(f'RAM at start: {memory_profiler.memory_usage()[0]:0.1f}MiB', color='blue')\n",
    "t1 = time.time()\n",
    "\n",
    "printmd(f'Sorting: {len(med_lst)} elements', color=\"blue\")\n",
    "res = merge_sort(med_lst)\n",
    "t2 = time.time()\n",
    "# print(res)\n",
    "\n",
    "printmd(f'RAM after sorting list: {memory_profiler.memory_usage()[0]:0.1f}MiB, took {t2 - t1:0.1f}s', color='blue')"
   ]
  },
  {
   "cell_type": "markdown",
   "metadata": {},
   "source": [
    "<code>mergeSort</code>"
   ]
  },
  {
   "cell_type": "code",
   "execution_count": 236,
   "metadata": {
    "ExecuteTime": {
     "end_time": "2020-12-18T08:16:55.619345Z",
     "start_time": "2020-12-18T08:16:54.584040Z"
    }
   },
   "outputs": [
    {
     "data": {
      "text/markdown": [
       "<span style='color:blue'>RAM at start: 91.7MiB</span>"
      ],
      "text/plain": [
       "<IPython.core.display.Markdown object>"
      ]
     },
     "metadata": {},
     "output_type": "display_data"
    },
    {
     "data": {
      "text/markdown": [
       "<span style='color:blue'>Sorting: 100000 elements</span>"
      ],
      "text/plain": [
       "<IPython.core.display.Markdown object>"
      ]
     },
     "metadata": {},
     "output_type": "display_data"
    },
    {
     "data": {
      "text/markdown": [
       "<span style='color:blue'>RAM after sorting list: 90.0MiB, took 0.8s</span>"
      ],
      "text/plain": [
       "<IPython.core.display.Markdown object>"
      ]
     },
     "metadata": {},
     "output_type": "display_data"
    }
   ],
   "source": [
    "printmd(f'RAM at start: {memory_profiler.memory_usage()[0]:0.1f}MiB', color='blue')\n",
    "t1 = time.time()\n",
    "printmd(f'Sorting: {len(med_lst2)} elements', color=\"blue\")\n",
    "mergeSort(med_lst2)\n",
    "t2 = time.time()\n",
    "# print(med_lst2)\n",
    "printmd(f'RAM after sorting list: {memory_profiler.memory_usage()[0]:0.1f}MiB, took {t2 - t1:0.1f}s', color='blue')"
   ]
  },
  {
   "cell_type": "code",
   "execution_count": 376,
   "metadata": {
    "ExecuteTime": {
     "end_time": "2020-12-20T13:53:45.141226Z",
     "start_time": "2020-12-20T13:53:44.988541Z"
    },
    "init_cell": true
   },
   "outputs": [],
   "source": [
    "big_lst = [random.random() for _ in range(500000)]\n",
    "big_lst2 = [random.random() for _ in range(500000)]"
   ]
  },
  {
   "cell_type": "markdown",
   "metadata": {},
   "source": [
    "<code>merge_sort</code>"
   ]
  },
  {
   "cell_type": "code",
   "execution_count": 238,
   "metadata": {
    "ExecuteTime": {
     "end_time": "2020-12-18T08:17:02.143368Z",
     "start_time": "2020-12-18T08:16:59.139637Z"
    }
   },
   "outputs": [
    {
     "data": {
      "text/markdown": [
       "<span style='color:blue'>RAM at start: 96.2MiB</span>"
      ],
      "text/plain": [
       "<IPython.core.display.Markdown object>"
      ]
     },
     "metadata": {},
     "output_type": "display_data"
    },
    {
     "data": {
      "text/markdown": [
       "<span style='color:blue'>Sorting: 500000 elements</span>"
      ],
      "text/plain": [
       "<IPython.core.display.Markdown object>"
      ]
     },
     "metadata": {},
     "output_type": "display_data"
    },
    {
     "data": {
      "text/markdown": [
       "<span style='color:blue'>RAM after sorting list: 97.4MiB, took 2.8s</span>"
      ],
      "text/plain": [
       "<IPython.core.display.Markdown object>"
      ]
     },
     "metadata": {},
     "output_type": "display_data"
    }
   ],
   "source": [
    "printmd(f'RAM at start: {memory_profiler.memory_usage()[0]:0.1f}MiB', color='blue')\n",
    "t1 = time.time()\n",
    "printmd(f'Sorting: {len(big_lst)} elements', color=\"blue\")\n",
    "merge_sort(big_lst)\n",
    "t2 = time.time()\n",
    "printmd(f'RAM after sorting list: {memory_profiler.memory_usage()[0]:0.1f}MiB, took {t2 - t1:0.1f}s', color='blue')"
   ]
  },
  {
   "cell_type": "markdown",
   "metadata": {},
   "source": [
    "<code>mergeSort</code>"
   ]
  },
  {
   "cell_type": "code",
   "execution_count": 239,
   "metadata": {
    "ExecuteTime": {
     "end_time": "2020-12-18T08:17:09.750328Z",
     "start_time": "2020-12-18T08:17:04.835607Z"
    }
   },
   "outputs": [
    {
     "data": {
      "text/markdown": [
       "<span style='color:blue'>RAM at start: 97.4MiB</span>"
      ],
      "text/plain": [
       "<IPython.core.display.Markdown object>"
      ]
     },
     "metadata": {},
     "output_type": "display_data"
    },
    {
     "data": {
      "text/markdown": [
       "<span style='color:blue'>Sorting: 500000 elements</span>"
      ],
      "text/plain": [
       "<IPython.core.display.Markdown object>"
      ]
     },
     "metadata": {},
     "output_type": "display_data"
    },
    {
     "data": {
      "text/markdown": [
       "<span style='color:blue'>RAM after sorting list: 100.2MiB, took 4.7s</span>"
      ],
      "text/plain": [
       "<IPython.core.display.Markdown object>"
      ]
     },
     "metadata": {},
     "output_type": "display_data"
    }
   ],
   "source": [
    "printmd(f'RAM at start: {memory_profiler.memory_usage()[0]:0.1f}MiB', color='blue')\n",
    "t1 = time.time()\n",
    "printmd(f'Sorting: {len(big_lst2)} elements', color=\"blue\")\n",
    "mergeSort(big_lst2)\n",
    "t2 = time.time()\n",
    "printmd(f'RAM after sorting list: {memory_profiler.memory_usage()[0]:0.1f}MiB, took {t2 - t1:0.1f}s', color='blue')"
   ]
  },
  {
   "cell_type": "markdown",
   "metadata": {},
   "source": [
    "<div class=\"alert alert-block alert-info\" style=\"color:navy;font-family:math\">\n",
    "    <p>Even though my code is running faster, you can still see that the other implementation uses less memory because it mutates the passed list instead of creating a new one.</p>\n",
    "  <span>In either direction, space or memory, the tradeoff appers pretty small; note that <code>merge sort</code> already has $O(n)$ space complexity.</span>\n",
    "</div>"
   ]
  },
  {
   "cell_type": "markdown",
   "metadata": {},
   "source": [
    "## Quick Sort"
   ]
  },
  {
   "cell_type": "markdown",
   "metadata": {
    "ExecuteTime": {
     "end_time": "2020-12-20T11:09:13.849438Z",
     "start_time": "2020-12-20T11:09:13.845200Z"
    }
   },
   "source": [
    "<div class=\"alert alert-block alert-info\" style=\"color:navy;font-family:math\">\n",
    "    <p>Note: A better quicksort algorithm works in place, by swapping elements within the array, to avoid the memory allocation of more arrays.</p>\n",
    "</div>"
   ]
  },
  {
   "cell_type": "code",
   "execution_count": 377,
   "metadata": {
    "ExecuteTime": {
     "end_time": "2020-12-20T13:53:45.146541Z",
     "start_time": "2020-12-20T13:53:45.142925Z"
    },
    "init_cell": true
   },
   "outputs": [],
   "source": [
    "def quick_sort(lst):\n",
    "    if len(lst) < 2: return lst\n",
    "    pivot_lst = lst[0]\n",
    "    left_side = [el for el in lst[1:] if el < pivot_lst]\n",
    "    right_side = [el for el in lst[1:] if el >= pivot_lst]  # this = in >= is the part that makes quicksort unstable, but it allows us to have dup elements\n",
    "    return quick_sort(left_side) + [pivot_lst] + quick_sort(right_side)"
   ]
  },
  {
   "cell_type": "code",
   "execution_count": 344,
   "metadata": {
    "ExecuteTime": {
     "end_time": "2020-12-20T11:10:11.357860Z",
     "start_time": "2020-12-20T11:10:11.352816Z"
    },
    "code_folding": [
     0,
     5
    ]
   },
   "outputs": [
    {
     "data": {
      "text/html": [
       "\n",
       "        <iframe\n",
       "            width=\"100%\"\n",
       "            height=\"650\"\n",
       "            src=\"http://pythontutor.com/iframe-embed.html#code=original_case%20%3D%20%5B6%2C%208%2C%201%2C%204%2C%2010%2C%207%2C%208%2C%209%2C%203%2C%202%2C%205%5D%0Aworst_case%20%3D%20%5B10%2C%209%2C%208%2C%208%2C%207%2C%206%2C%205%2C%204%2C%203%2C%202%2C%201%5D%0Abest_case%20%3D%20%5B1%2C%202%2C%203%2C%204%2C%205%2C%206%2C%207%2C%208%2C%208%2C%209%2C%2010%5D%0A%0Adef%20quick_sort%28lst%2C%20comparisons%3D0%29%3A%0A%20%20%20%20if%20len%28lst%29%20%3C%202%3A%20return%20lst%0A%20%20%20%20pivot_lst%20%3D%20lst%5B0%5D%0A%20%20%20%20%23%20for%20original%20case%2C%20gives%20%5B1%2C%202%2C%203%2C%204%2C%205%5D%2C%20%5B%5D%2C%20%5B3%2C%202%5D%2C%20%5B2%5D%2C%20%5B7%5D%2C%20%5B8%2C%209%5D%2C%20%5B%5D%0A%20%20%20%20left_side%20%3D%20%5Bel%20for%20el%20in%20lst%5B1%3A%5D%20if%20el%20%3C%20pivot_lst%5D%0A%20%20%20%20%23%20for%20original%20case%2C%20gives%20%5B8%2C%2010%2C%207%2C%208%2C%209%5D%2C%20then%20%5B4%2C%203%2C%202%2C%205%5D%2C%20%5B5%5D%2C%20%5B%5D%2C%20%5B10%2C%208%20%2C9%5D%2C%20%5B%5D%2C%209%0A%20%20%20%20right_side%20%3D%20%5Bel%20for%20el%20in%20lst%5B1%3A%5D%20if%20el%20%3E%3D%20pivot_lst%5D%20%20%23%20this%20%3D%20in%20%3E%3D%20is%20the%20part%20that%20makes%20quicksort%20unstable%2C%20but%20it%20allows%20us%20to%20have%20dup%20elements%0A%20%20%20%20return%20quick_sort%28left_side%29%20%2B%20%5Bpivot_lst%5D%20%2B%20quick_sort%28right_side%29%20%23%20%5B7%2C%208%2C%209%2C%2010%5D%2C%20%5B1%2C%202%2C%203%2C%204%2C%205%2C%206%2C%207%2C%208%2C%208%2C%2010%5D%0A%0Aprint%28%27%5Ct%27%2C%20f%27original%3A%20%5B%7B%22%2C%20%22.join%28map%28str%2C%20quick_sort%28original_case%29%29%29%3A7%7D%5D%27%29%0Aprint%28%27%5Ct%27%2C%20f%27worst%20case%3A%20%5B%7B%22%2C%20%22.join%28map%28str%2C%20quick_sort%28worst_case%29%29%29%3A5%7D%5D%27%29%20%20%0Aprint%28%27%5Ct%27%2C%20f%27best%20case%3A%20%5B%7B%22%2C%20%22.join%28map%28str%2C%20quick_sort%28best_case%29%29%29%3A6%7D%5D%27%29%0A&origin=opt-frontend.js&cumulative=false&heapPrimitives=false&textReferences=true&curInstr=688&&verticalStack=false&py=3&rawInputLstJSON=%5B%5D&codeDivWidth=50%25&codeDivHeight=100%25\"\n",
       "            frameborder=\"0\"\n",
       "            allowfullscreen\n",
       "        ></iframe>\n",
       "        "
      ],
      "text/plain": [
       "<IPython.lib.display.IFrame at 0x127d3b8b0>"
      ]
     },
     "metadata": {},
     "output_type": "display_data"
    }
   ],
   "source": [
    "%%tutor --textReferences --curInstr 688 --lang python3 -h 650\n",
    "original_case = [6, 8, 1, 4, 10, 7, 8, 9, 3, 2, 5]\n",
    "worst_case = [10, 9, 8, 8, 7, 6, 5, 4, 3, 2, 1]\n",
    "best_case = [1, 2, 3, 4, 5, 6, 7, 8, 8, 9, 10]\n",
    "\n",
    "def quick_sort(lst, comparisons=0):\n",
    "    if len(lst) < 2: return lst\n",
    "    pivot_lst = lst[0]\n",
    "    # for original case, gives [1, 2, 3, 4, 5], [], [3, 2], [2], [7], [8, 9], []\n",
    "    left_side = [el for el in lst[1:] if el < pivot_lst]\n",
    "    # for original case, gives [8, 10, 7, 8, 9], then [4, 3, 2, 5], [5], [], [10, 8 ,9], [], 9\n",
    "    right_side = [el for el in lst[1:] if el >= pivot_lst]  # this = in >= is the part that makes quicksort unstable, but it allows us to have dup elements\n",
    "    return quick_sort(left_side) + [pivot_lst] + quick_sort(right_side) # [7, 8, 9, 10], [1, 2, 3, 4, 5, 6, 7, 8, 8, 10]\n",
    "\n",
    "print('\\t', f'original: [{\", \".join(map(str, quick_sort(original_case))):7}]')\n",
    "print('\\t', f'worst case: [{\", \".join(map(str, quick_sort(worst_case))):5}]')  \n",
    "print('\\t', f'best case: [{\", \".join(map(str, quick_sort(best_case))):6}]')"
   ]
  }
 ],
 "metadata": {
  "hide_input": false,
  "jupytext": {
   "formats": "ipynb,md"
  },
  "kernelspec": {
   "display_name": "Python 3",
   "language": "python",
   "name": "python3"
  },
  "language_info": {
   "codemirror_mode": {
    "name": "ipython",
    "version": 3
   },
   "file_extension": ".py",
   "mimetype": "text/x-python",
   "name": "python",
   "nbconvert_exporter": "python",
   "pygments_lexer": "ipython3",
   "version": "3.9.0"
  },
  "latex_envs": {
   "LaTeX_envs_menu_present": true,
   "autoclose": false,
   "autocomplete": true,
   "bibliofile": "biblio.bib",
   "cite_by": "apalike",
   "current_citInitial": 1,
   "eqLabelWithNumbers": true,
   "eqNumInitial": 1,
   "hotkeys": {
    "equation": "Ctrl-E",
    "itemize": "Ctrl-I"
   },
   "labels_anchors": false,
   "latex_user_defs": false,
   "report_style_numbering": false,
   "user_envs_cfg": false
  },
  "widgets": {
   "application/vnd.jupyter.widget-state+json": {
    "state": {},
    "version_major": 2,
    "version_minor": 0
   }
  }
 },
 "nbformat": 4,
 "nbformat_minor": 4
}
